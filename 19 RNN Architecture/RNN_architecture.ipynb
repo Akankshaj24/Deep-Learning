{
 "cells": [
  {
   "cell_type": "markdown",
   "metadata": {
    "id": "0hd39KYP19u8"
   },
   "source": [
    "## Importing Libraries"
   ]
  },
  {
   "cell_type": "code",
   "execution_count": 15,
   "metadata": {
    "id": "0JiIC8BTrF41"
   },
   "outputs": [],
   "source": [
    "from keras import Sequential\n",
    "from keras.layers import Dense, SimpleRNN"
   ]
  },
  {
   "cell_type": "markdown",
   "metadata": {
    "id": "EGtkxiIP2Cjq"
   },
   "source": [
    "## Building RNN model"
   ]
  },
  {
   "cell_type": "code",
   "execution_count": 16,
   "metadata": {
    "colab": {
     "base_uri": "https://localhost:8080/"
    },
    "id": "vFWPJiQUrP51",
    "outputId": "1f7c5a23-d11f-4cd7-90db-4cc189d600c8"
   },
   "outputs": [
    {
     "name": "stdout",
     "output_type": "stream",
     "text": [
      "Model: \"sequential_1\"\n",
      "_________________________________________________________________\n",
      " Layer (type)                Output Shape              Param #   \n",
      "=================================================================\n",
      " simple_rnn_1 (SimpleRNN)    (None, 3)                 27        \n",
      "                                                                 \n",
      " dense_1 (Dense)             (None, 1)                 4         \n",
      "                                                                 \n",
      "=================================================================\n",
      "Total params: 31 (124.00 Byte)\n",
      "Trainable params: 31 (124.00 Byte)\n",
      "Non-trainable params: 0 (0.00 Byte)\n",
      "_________________________________________________________________\n"
     ]
    }
   ],
   "source": [
    "model = Sequential()\n",
    "model.add(SimpleRNN(3, input_shape=(4,5)))\n",
    "model.add(Dense(1, activation='sigmoid'))\n",
    "\n",
    "model.summary()"
   ]
  },
  {
   "cell_type": "markdown",
   "metadata": {
    "id": "qSO5woAK2Ifw"
   },
   "source": [
    "**So, Basically here we get to know that we have 31 trainable parameters in our network,\n",
    "we are going to understand how they are present in our network and architecture of network.**"
   ]
  },
  {
   "cell_type": "code",
   "execution_count": 17,
   "metadata": {
    "colab": {
     "base_uri": "https://localhost:8080/"
    },
    "id": "XJAN9lFDrfLx",
    "outputId": "dce9419d-2f6a-45bb-ab5a-d540e6a417a4"
   },
   "outputs": [
    {
     "name": "stdout",
     "output_type": "stream",
     "text": [
      "5\n"
     ]
    }
   ],
   "source": [
    "print(len(model.get_weights()))"
   ]
  },
  {
   "cell_type": "markdown",
   "metadata": {
    "id": "iHos6omT28dY"
   },
   "source": [
    "**In network 5 times weights are assigned**"
   ]
  },
  {
   "cell_type": "code",
   "execution_count": 18,
   "metadata": {
    "colab": {
     "base_uri": "https://localhost:8080/"
    },
    "id": "fRITwm64sAER",
    "outputId": "7d97d0d5-e3d8-4a69-dba3-df372a78252c"
   },
   "outputs": [
    {
     "name": "stdout",
     "output_type": "stream",
     "text": [
      "(5, 3)\n"
     ]
    },
    {
     "data": {
      "text/plain": [
       "array([[-0.01676112, -0.14223528, -0.07964665],\n",
       "       [ 0.41629034, -0.05018622, -0.22204381],\n",
       "       [ 0.71275026, -0.48749214, -0.60096157],\n",
       "       [-0.5799325 , -0.30082643,  0.7718485 ],\n",
       "       [ 0.11851609, -0.3357538 ,  0.00606275]], dtype=float32)"
      ]
     },
     "execution_count": 18,
     "metadata": {},
     "output_type": "execute_result"
    }
   ],
   "source": [
    "print(model.get_weights()[0].shape)\n",
    "model.get_weights()[0]"
   ]
  },
  {
   "cell_type": "markdown",
   "metadata": {
    "id": "FkRczuaQ3H7k"
   },
   "source": [
    "our input has shape of (4,5)\n",
    "\n",
    "4 - max length of sentence for sentences present in the dataset.\n",
    "\n",
    "5 - length of vector used to present the word in the word corpus.\n",
    "\n",
    "**First word of sentence with vector length 5 and 3 nodes present in the hidden layer hence total trainable parameters in first layer are 5 * 3**"
   ]
  },
  {
   "cell_type": "code",
   "execution_count": 19,
   "metadata": {
    "colab": {
     "base_uri": "https://localhost:8080/"
    },
    "id": "pM8sNaxesSHt",
    "outputId": "7f6b5fb3-08fe-4a6c-cd66-7f2f55c1a50c"
   },
   "outputs": [
    {
     "name": "stdout",
     "output_type": "stream",
     "text": [
      "(3, 3)\n"
     ]
    },
    {
     "data": {
      "text/plain": [
       "array([[-0.49447155,  0.86784655,  0.04837749],\n",
       "       [ 0.44136694,  0.2986463 , -0.8461712 ],\n",
       "       [-0.74879444, -0.39705533, -0.5307108 ]], dtype=float32)"
      ]
     },
     "execution_count": 19,
     "metadata": {},
     "output_type": "execute_result"
    }
   ],
   "source": [
    "print(model.get_weights()[1].shape)\n",
    "model.get_weights()[1]"
   ]
  },
  {
   "cell_type": "markdown",
   "metadata": {
    "id": "GF6SHeU65SPW"
   },
   "source": [
    "**For node in hidden layer every node in the network gives feedback to every node present in the hidden layer, Hence trainable parameters in hidden layer are 3 * 3**"
   ]
  },
  {
   "cell_type": "code",
   "execution_count": 20,
   "metadata": {
    "colab": {
     "base_uri": "https://localhost:8080/"
    },
    "id": "n0mVABdVsVr0",
    "outputId": "1a0bd1a6-1053-441a-9645-85c6127950a4"
   },
   "outputs": [
    {
     "name": "stdout",
     "output_type": "stream",
     "text": [
      "(3,)\n"
     ]
    },
    {
     "data": {
      "text/plain": [
       "array([0., 0., 0.], dtype=float32)"
      ]
     },
     "execution_count": 20,
     "metadata": {},
     "output_type": "execute_result"
    }
   ],
   "source": [
    "print(model.get_weights()[2].shape)\n",
    "model.get_weights()[2]"
   ]
  },
  {
   "cell_type": "markdown",
   "metadata": {
    "id": "DmB-BBJn5zrl"
   },
   "source": [
    "**Biases of every node present in the hidden layer 3*1**"
   ]
  },
  {
   "cell_type": "code",
   "execution_count": 21,
   "metadata": {
    "colab": {
     "base_uri": "https://localhost:8080/"
    },
    "id": "MgCbci6rsYs4",
    "outputId": "675009f2-1064-4f51-ee07-8b33e14d977b"
   },
   "outputs": [
    {
     "name": "stdout",
     "output_type": "stream",
     "text": [
      "(3, 1)\n"
     ]
    },
    {
     "data": {
      "text/plain": [
       "array([[-0.49980044],\n",
       "       [ 1.1496426 ],\n",
       "       [-1.0473111 ]], dtype=float32)"
      ]
     },
     "execution_count": 21,
     "metadata": {},
     "output_type": "execute_result"
    }
   ],
   "source": [
    "print(model.get_weights()[3].shape)\n",
    "model.get_weights()[3]"
   ]
  },
  {
   "cell_type": "markdown",
   "metadata": {
    "id": "T3rdaZkD6p_T"
   },
   "source": [
    "**Weights assigned from hidden layer to output layer are 3*1**"
   ]
  },
  {
   "cell_type": "code",
   "execution_count": 22,
   "metadata": {
    "colab": {
     "base_uri": "https://localhost:8080/"
    },
    "id": "-PVC-MRXscNW",
    "outputId": "dbfab0d2-5ccd-4bee-f986-a3c0aaeb2c40"
   },
   "outputs": [
    {
     "name": "stdout",
     "output_type": "stream",
     "text": [
      "(1,)\n"
     ]
    },
    {
     "data": {
      "text/plain": [
       "array([0.], dtype=float32)"
      ]
     },
     "execution_count": 22,
     "metadata": {},
     "output_type": "execute_result"
    }
   ],
   "source": [
    "print(model.get_weights()[4].shape)\n",
    "model.get_weights()[4]"
   ]
  },
  {
   "cell_type": "markdown",
   "metadata": {
    "id": "0pXTqguZ63vZ"
   },
   "source": [
    "**Bias of output layer 1*1**"
   ]
  },
  {
   "cell_type": "markdown",
   "metadata": {
    "id": "kPFHv1WT69E0"
   },
   "source": [
    "**Hence total trainable parametrs are - (5 * 3) + (3 * 3) + (3 * 1) + (3 * 1) + (1 * 1) = 31**  \n"
   ]
  },
  {
   "cell_type": "code",
   "execution_count": 14,
   "metadata": {
    "colab": {
     "base_uri": "https://localhost:8080/",
     "height": 312
    },
    "id": "42nE0e0Dshh_",
    "outputId": "146cd28d-d262-4070-8c02-ce7aaa9d53d1"
   },
   "outputs": [
    {
     "data": {
      "image/png": "[encoded data removed]",
      "text/plain": [
       "<IPython.core.display.Image object>"
      ]
     },
     "execution_count": 14,
     "metadata": {},
     "output_type": "execute_result"
    }
   ],
   "source": [
    "from keras.utils import plot_model\n",
    "plot_model(model,show_shapes=True)"
   ]
  },
  {
   "cell_type": "code",
   "execution_count": 22,
   "metadata": {
    "id": "lO82eXbVskON"
   },
   "outputs": [],
   "source": []
  }
 ],
 "metadata": {
  "colab": {
   "provenance": []
  },
  "kernelspec": {
   "display_name": "Python 3",
   "name": "python3"
  },
  "language_info": {
   "name": "python"
  }
 },
 "nbformat": 4,
 "nbformat_minor": 0
}
