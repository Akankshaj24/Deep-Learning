{
 "cells": [
  {
   "cell_type": "code",
   "execution_count": 1,
   "metadata": {
    "id": "1mfGNvN29auy"
   },
   "outputs": [],
   "source": [
    "import warnings\n",
    "warnings.filterwarnings(\"ignore\")"
   ]
  },
  {
   "cell_type": "code",
   "execution_count": 2,
   "metadata": {
    "id": "L08s5GYS9cEV"
   },
   "outputs": [],
   "source": [
    "import numpy as np\n",
    "import pandas as pd"
   ]
  },
  {
   "cell_type": "code",
   "execution_count": 3,
   "metadata": {
    "id": "wMXKyB0z9d0T"
   },
   "outputs": [],
   "source": [
    "df = pd.DataFrame([[8,8,4],[7,9,5],[6,10,6],[5,12,7]], columns=['cgpa', 'profile_score', 'lpa'])"
   ]
  },
  {
   "cell_type": "code",
   "execution_count": 4,
   "metadata": {
    "colab": {
     "base_uri": "https://localhost:8080/",
     "height": 175
    },
    "id": "legDacR_9fKC",
    "outputId": "007a32e6-5598-4c58-f5ae-ea7df9329149"
   },
   "outputs": [
    {
     "data": {
      "application/vnd.google.colaboratory.intrinsic+json": {
       "summary": "{\n  \"name\": \"df\",\n  \"rows\": 4,\n  \"fields\": [\n    {\n      \"column\": \"cgpa\",\n      \"properties\": {\n        \"dtype\": \"number\",\n        \"std\": 1,\n        \"min\": 5,\n        \"max\": 8,\n        \"num_unique_values\": 4,\n        \"samples\": [\n          7,\n          5,\n          8\n        ],\n        \"semantic_type\": \"\",\n        \"description\": \"\"\n      }\n    },\n    {\n      \"column\": \"profile_score\",\n      \"properties\": {\n        \"dtype\": \"number\",\n        \"std\": 1,\n        \"min\": 8,\n        \"max\": 12,\n        \"num_unique_values\": 4,\n        \"samples\": [\n          9,\n          12,\n          8\n        ],\n        \"semantic_type\": \"\",\n        \"description\": \"\"\n      }\n    },\n    {\n      \"column\": \"lpa\",\n      \"properties\": {\n        \"dtype\": \"number\",\n        \"std\": 1,\n        \"min\": 4,\n        \"max\": 7,\n        \"num_unique_values\": 4,\n        \"samples\": [\n          5,\n          7,\n          4\n        ],\n        \"semantic_type\": \"\",\n        \"description\": \"\"\n      }\n    }\n  ]\n}",
       "type": "dataframe",
       "variable_name": "df"
      },
      "text/html": [
       "\n",
       "  <div id=\"df-9384c8f7-c74a-4551-b6d6-55be232c83f1\" class=\"colab-df-container\">\n",
       "    <div>\n",
       "<style scoped>\n",
       "    .dataframe tbody tr th:only-of-type {\n",
       "        vertical-align: middle;\n",
       "    }\n",
       "\n",
       "    .dataframe tbody tr th {\n",
       "        vertical-align: top;\n",
       "    }\n",
       "\n",
       "    .dataframe thead th {\n",
       "        text-align: right;\n",
       "    }\n",
       "</style>\n",
       "<table border=\"1\" class=\"dataframe\">\n",
       "  <thead>\n",
       "    <tr style=\"text-align: right;\">\n",
       "      <th></th>\n",
       "      <th>cgpa</th>\n",
       "      <th>profile_score</th>\n",
       "      <th>lpa</th>\n",
       "    </tr>\n",
       "  </thead>\n",
       "  <tbody>\n",
       "    <tr>\n",
       "      <th>0</th>\n",
       "      <td>8</td>\n",
       "      <td>8</td>\n",
       "      <td>4</td>\n",
       "    </tr>\n",
       "    <tr>\n",
       "      <th>1</th>\n",
       "      <td>7</td>\n",
       "      <td>9</td>\n",
       "      <td>5</td>\n",
       "    </tr>\n",
       "    <tr>\n",
       "      <th>2</th>\n",
       "      <td>6</td>\n",
       "      <td>10</td>\n",
       "      <td>6</td>\n",
       "    </tr>\n",
       "    <tr>\n",
       "      <th>3</th>\n",
       "      <td>5</td>\n",
       "      <td>12</td>\n",
       "      <td>7</td>\n",
       "    </tr>\n",
       "  </tbody>\n",
       "</table>\n",
       "</div>\n",
       "    <div class=\"colab-df-buttons\">\n",
       "\n",
       "  <div class=\"colab-df-container\">\n",
       "    <button class=\"colab-df-convert\" onclick=\"convertToInteractive('df-9384c8f7-c74a-4551-b6d6-55be232c83f1')\"\n",
       "            title=\"Convert this dataframe to an interactive table.\"\n",
       "            style=\"display:none;\">\n",
       "\n",
       "  <svg xmlns=\"http://www.w3.org/2000/svg\" height=\"24px\" viewBox=\"0 -960 960 960\">\n",
       "    <path d=\"M120-120v-720h720v720H120Zm60-500h600v-160H180v160Zm220 220h160v-160H400v160Zm0 220h160v-160H400v160ZM180-400h160v-160H180v160Zm440 0h160v-160H620v160ZM180-180h160v-160H180v160Zm440 0h160v-160H620v160Z\"/>\n",
       "  </svg>\n",
       "    </button>\n",
       "\n",
       "  <style>\n",
       "    .colab-df-container {\n",
       "      display:flex;\n",
       "      gap: 12px;\n",
       "    }\n",
       "\n",
       "    .colab-df-convert {\n",
       "      background-color: #E8F0FE;\n",
       "      border: none;\n",
       "      border-radius: 50%;\n",
       "      cursor: pointer;\n",
       "      display: none;\n",
       "      fill: #1967D2;\n",
       "      height: 32px;\n",
       "      padding: 0 0 0 0;\n",
       "      width: 32px;\n",
       "    }\n",
       "\n",
       "    .colab-df-convert:hover {\n",
       "      background-color: #E2EBFA;\n",
       "      box-shadow: 0px 1px 2px rgba(60, 64, 67, 0.3), 0px 1px 3px 1px rgba(60, 64, 67, 0.15);\n",
       "      fill: #174EA6;\n",
       "    }\n",
       "\n",
       "    .colab-df-buttons div {\n",
       "      margin-bottom: 4px;\n",
       "    }\n",
       "\n",
       "    [theme=dark] .colab-df-convert {\n",
       "      background-color: #3B4455;\n",
       "      fill: #D2E3FC;\n",
       "    }\n",
       "\n",
       "    [theme=dark] .colab-df-convert:hover {\n",
       "      background-color: #434B5C;\n",
       "      box-shadow: 0px 1px 3px 1px rgba(0, 0, 0, 0.15);\n",
       "      filter: drop-shadow(0px 1px 2px rgba(0, 0, 0, 0.3));\n",
       "      fill: #FFFFFF;\n",
       "    }\n",
       "  </style>\n",
       "\n",
       "    <script>\n",
       "      const buttonEl =\n",
       "        document.querySelector('#df-9384c8f7-c74a-4551-b6d6-55be232c83f1 button.colab-df-convert');\n",
       "      buttonEl.style.display =\n",
       "        google.colab.kernel.accessAllowed ? 'block' : 'none';\n",
       "\n",
       "      async function convertToInteractive(key) {\n",
       "        const element = document.querySelector('#df-9384c8f7-c74a-4551-b6d6-55be232c83f1');\n",
       "        const dataTable =\n",
       "          await google.colab.kernel.invokeFunction('convertToInteractive',\n",
       "                                                    [key], {});\n",
       "        if (!dataTable) return;\n",
       "\n",
       "        const docLinkHtml = 'Like what you see? Visit the ' +\n",
       "          '<a target=\"_blank\" href=https://colab.research.google.com/notebooks/data_table.ipynb>data table notebook</a>'\n",
       "          + ' to learn more about interactive tables.';\n",
       "        element.innerHTML = '';\n",
       "        dataTable['output_type'] = 'display_data';\n",
       "        await google.colab.output.renderOutput(dataTable, element);\n",
       "        const docLink = document.createElement('div');\n",
       "        docLink.innerHTML = docLinkHtml;\n",
       "        element.appendChild(docLink);\n",
       "      }\n",
       "    </script>\n",
       "  </div>\n",
       "\n",
       "\n",
       "<div id=\"df-593eb242-d374-485e-a5cd-760ae8fd9900\">\n",
       "  <button class=\"colab-df-quickchart\" onclick=\"quickchart('df-593eb242-d374-485e-a5cd-760ae8fd9900')\"\n",
       "            title=\"Suggest charts\"\n",
       "            style=\"display:none;\">\n",
       "\n",
       "<svg xmlns=\"http://www.w3.org/2000/svg\" height=\"24px\"viewBox=\"0 0 24 24\"\n",
       "     width=\"24px\">\n",
       "    <g>\n",
       "        <path d=\"M19 3H5c-1.1 0-2 .9-2 2v14c0 1.1.9 2 2 2h14c1.1 0 2-.9 2-2V5c0-1.1-.9-2-2-2zM9 17H7v-7h2v7zm4 0h-2V7h2v10zm4 0h-2v-4h2v4z\"/>\n",
       "    </g>\n",
       "</svg>\n",
       "  </button>\n",
       "\n",
       "<style>\n",
       "  .colab-df-quickchart {\n",
       "      --bg-color: #E8F0FE;\n",
       "      --fill-color: #1967D2;\n",
       "      --hover-bg-color: #E2EBFA;\n",
       "      --hover-fill-color: #174EA6;\n",
       "      --disabled-fill-color: #AAA;\n",
       "      --disabled-bg-color: #DDD;\n",
       "  }\n",
       "\n",
       "  [theme=dark] .colab-df-quickchart {\n",
       "      --bg-color: #3B4455;\n",
       "      --fill-color: #D2E3FC;\n",
       "      --hover-bg-color: #434B5C;\n",
       "      --hover-fill-color: #FFFFFF;\n",
       "      --disabled-bg-color: #3B4455;\n",
       "      --disabled-fill-color: #666;\n",
       "  }\n",
       "\n",
       "  .colab-df-quickchart {\n",
       "    background-color: var(--bg-color);\n",
       "    border: none;\n",
       "    border-radius: 50%;\n",
       "    cursor: pointer;\n",
       "    display: none;\n",
       "    fill: var(--fill-color);\n",
       "    height: 32px;\n",
       "    padding: 0;\n",
       "    width: 32px;\n",
       "  }\n",
       "\n",
       "  .colab-df-quickchart:hover {\n",
       "    background-color: var(--hover-bg-color);\n",
       "    box-shadow: 0 1px 2px rgba(60, 64, 67, 0.3), 0 1px 3px 1px rgba(60, 64, 67, 0.15);\n",
       "    fill: var(--button-hover-fill-color);\n",
       "  }\n",
       "\n",
       "  .colab-df-quickchart-complete:disabled,\n",
       "  .colab-df-quickchart-complete:disabled:hover {\n",
       "    background-color: var(--disabled-bg-color);\n",
       "    fill: var(--disabled-fill-color);\n",
       "    box-shadow: none;\n",
       "  }\n",
       "\n",
       "  .colab-df-spinner {\n",
       "    border: 2px solid var(--fill-color);\n",
       "    border-color: transparent;\n",
       "    border-bottom-color: var(--fill-color);\n",
       "    animation:\n",
       "      spin 1s steps(1) infinite;\n",
       "  }\n",
       "\n",
       "  @keyframes spin {\n",
       "    0% {\n",
       "      border-color: transparent;\n",
       "      border-bottom-color: var(--fill-color);\n",
       "      border-left-color: var(--fill-color);\n",
       "    }\n",
       "    20% {\n",
       "      border-color: transparent;\n",
       "      border-left-color: var(--fill-color);\n",
       "      border-top-color: var(--fill-color);\n",
       "    }\n",
       "    30% {\n",
       "      border-color: transparent;\n",
       "      border-left-color: var(--fill-color);\n",
       "      border-top-color: var(--fill-color);\n",
       "      border-right-color: var(--fill-color);\n",
       "    }\n",
       "    40% {\n",
       "      border-color: transparent;\n",
       "      border-right-color: var(--fill-color);\n",
       "      border-top-color: var(--fill-color);\n",
       "    }\n",
       "    60% {\n",
       "      border-color: transparent;\n",
       "      border-right-color: var(--fill-color);\n",
       "    }\n",
       "    80% {\n",
       "      border-color: transparent;\n",
       "      border-right-color: var(--fill-color);\n",
       "      border-bottom-color: var(--fill-color);\n",
       "    }\n",
       "    90% {\n",
       "      border-color: transparent;\n",
       "      border-bottom-color: var(--fill-color);\n",
       "    }\n",
       "  }\n",
       "</style>\n",
       "\n",
       "  <script>\n",
       "    async function quickchart(key) {\n",
       "      const quickchartButtonEl =\n",
       "        document.querySelector('#' + key + ' button');\n",
       "      quickchartButtonEl.disabled = true;  // To prevent multiple clicks.\n",
       "      quickchartButtonEl.classList.add('colab-df-spinner');\n",
       "      try {\n",
       "        const charts = await google.colab.kernel.invokeFunction(\n",
       "            'suggestCharts', [key], {});\n",
       "      } catch (error) {\n",
       "        console.error('Error during call to suggestCharts:', error);\n",
       "      }\n",
       "      quickchartButtonEl.classList.remove('colab-df-spinner');\n",
       "      quickchartButtonEl.classList.add('colab-df-quickchart-complete');\n",
       "    }\n",
       "    (() => {\n",
       "      let quickchartButtonEl =\n",
       "        document.querySelector('#df-593eb242-d374-485e-a5cd-760ae8fd9900 button');\n",
       "      quickchartButtonEl.style.display =\n",
       "        google.colab.kernel.accessAllowed ? 'block' : 'none';\n",
       "    })();\n",
       "  </script>\n",
       "</div>\n",
       "\n",
       "  <div id=\"id_4375ef38-3f85-4d66-9625-cd48c44e6d0c\">\n",
       "    <style>\n",
       "      .colab-df-generate {\n",
       "        background-color: #E8F0FE;\n",
       "        border: none;\n",
       "        border-radius: 50%;\n",
       "        cursor: pointer;\n",
       "        display: none;\n",
       "        fill: #1967D2;\n",
       "        height: 32px;\n",
       "        padding: 0 0 0 0;\n",
       "        width: 32px;\n",
       "      }\n",
       "\n",
       "      .colab-df-generate:hover {\n",
       "        background-color: #E2EBFA;\n",
       "        box-shadow: 0px 1px 2px rgba(60, 64, 67, 0.3), 0px 1px 3px 1px rgba(60, 64, 67, 0.15);\n",
       "        fill: #174EA6;\n",
       "      }\n",
       "\n",
       "      [theme=dark] .colab-df-generate {\n",
       "        background-color: #3B4455;\n",
       "        fill: #D2E3FC;\n",
       "      }\n",
       "\n",
       "      [theme=dark] .colab-df-generate:hover {\n",
       "        background-color: #434B5C;\n",
       "        box-shadow: 0px 1px 3px 1px rgba(0, 0, 0, 0.15);\n",
       "        filter: drop-shadow(0px 1px 2px rgba(0, 0, 0, 0.3));\n",
       "        fill: #FFFFFF;\n",
       "      }\n",
       "    </style>\n",
       "    <button class=\"colab-df-generate\" onclick=\"generateWithVariable('df')\"\n",
       "            title=\"Generate code using this dataframe.\"\n",
       "            style=\"display:none;\">\n",
       "\n",
       "  <svg xmlns=\"http://www.w3.org/2000/svg\" height=\"24px\"viewBox=\"0 0 24 24\"\n",
       "       width=\"24px\">\n",
       "    <path d=\"M7,19H8.4L18.45,9,17,7.55,7,17.6ZM5,21V16.75L18.45,3.32a2,2,0,0,1,2.83,0l1.4,1.43a1.91,1.91,0,0,1,.58,1.4,1.91,1.91,0,0,1-.58,1.4L9.25,21ZM18.45,9,17,7.55Zm-12,3A5.31,5.31,0,0,0,4.9,8.1,5.31,5.31,0,0,0,1,6.5,5.31,5.31,0,0,0,4.9,4.9,5.31,5.31,0,0,0,6.5,1,5.31,5.31,0,0,0,8.1,4.9,5.31,5.31,0,0,0,12,6.5,5.46,5.46,0,0,0,6.5,12Z\"/>\n",
       "  </svg>\n",
       "    </button>\n",
       "    <script>\n",
       "      (() => {\n",
       "      const buttonEl =\n",
       "        document.querySelector('#id_4375ef38-3f85-4d66-9625-cd48c44e6d0c button.colab-df-generate');\n",
       "      buttonEl.style.display =\n",
       "        google.colab.kernel.accessAllowed ? 'block' : 'none';\n",
       "\n",
       "      buttonEl.onclick = () => {\n",
       "        google.colab.notebook.generateWithVariable('df');\n",
       "      }\n",
       "      })();\n",
       "    </script>\n",
       "  </div>\n",
       "\n",
       "    </div>\n",
       "  </div>\n"
      ],
      "text/plain": [
       "   cgpa  profile_score  lpa\n",
       "0     8              8    4\n",
       "1     7              9    5\n",
       "2     6             10    6\n",
       "3     5             12    7"
      ]
     },
     "execution_count": 4,
     "metadata": {},
     "output_type": "execute_result"
    }
   ],
   "source": [
    "df"
   ]
  },
  {
   "cell_type": "code",
   "execution_count": 5,
   "metadata": {
    "id": "AN3XGpqG9gbj"
   },
   "outputs": [],
   "source": [
    "def  initialize_parameters(layer_dims):\n",
    "\n",
    "    np.random.seed(3)\n",
    "    parameters = {}\n",
    "    L = len(layer_dims)\n",
    "\n",
    "    for l in range(1,L):\n",
    "\n",
    "        parameters['W' + str(l)] = np.ones((layer_dims[l-1], layer_dims[l]))*0.1\n",
    "        parameters['b' + str(l)] = np.zeros((layer_dims[l], 1))\n",
    "\n",
    "    return parameters"
   ]
  },
  {
   "cell_type": "code",
   "execution_count": 6,
   "metadata": {
    "id": "U-9IYEKJ9iSF"
   },
   "outputs": [],
   "source": [
    "def linear_forward(A_Prev, W, b):\n",
    "\n",
    "    Z = np.dot(W.T, A_Prev) + b\n",
    "\n",
    "    return Z"
   ]
  },
  {
   "cell_type": "code",
   "execution_count": 7,
   "metadata": {
    "id": "gyZj0a5u9j37"
   },
   "outputs": [],
   "source": [
    "def L_layer_forward(X, parameters):\n",
    "\n",
    "    A = X\n",
    "    L = len(parameters) // 2\n",
    "\n",
    "    for l in range (1, L+1):\n",
    "        A_prev = A\n",
    "        W1 = parameters['W' + str(l)]\n",
    "        b1 = parameters['b' + str(l)]\n",
    "        print(\"A\" + str(l-1) + \" : \" , A_prev)\n",
    "        print(\"W\" + str(l) + \" : \" , W1)\n",
    "        print(\"b\" + str(l) + \" : \", b1)\n",
    "        print(\"--\" * 20)\n",
    "\n",
    "        A = linear_forward(A_prev, W1, b1)\n",
    "        print(\"A\" + str(l) + \" : \", A)\n",
    "        print(\"**\" * 20)\n",
    "\n",
    "    return A, A_prev"
   ]
  },
  {
   "cell_type": "code",
   "execution_count": 8,
   "metadata": {
    "id": "qRLdYH1V9lcJ"
   },
   "outputs": [],
   "source": [
    "def update_parameters(parameters, y, y_hat, A1, X):\n",
    "    parameters['W2'][0][0] = parameters['W2'][0][0] + (0.001 * 2 * (y - y_hat)*A1[0][0])\n",
    "    parameters['W2'][1][0] = parameters['W2'][1][0] + (0.001 * 2 * (y - y_hat)*A1[1][0])\n",
    "    parameters['b2'][0][0] = parameters['b2'][0][0] + (0.001 * 2 * (y - y_hat))\n",
    "\n",
    "    parameters['W1'][0][0] = parameters['W1'][0][0] + (0.001 * 2 * (y - y_hat)* parameters['W2'][0][0]* X[0][0])\n",
    "    parameters['W1'][0][1] = parameters['W1'][0][1] + (0.001 * 2 * (y - y_hat)* parameters['W2'][0][0]* X[1][0])\n",
    "    parameters['b1'][0][0] = parameters['b1'][0][0] + (0.001 * 2 * (y - y_hat)* parameters['W2'][0][0])\n",
    "\n",
    "    parameters['W1'][1][0] = parameters['W1'][1][0] + (0.001 * 2 * (y - y_hat)* parameters['W2'][1][0]* X[0][0])\n",
    "    parameters['W1'][1][1] = parameters['W1'][1][1] + (0.001 * 2 * (y - y_hat)* parameters['W2'][1][0]* X[1][0])\n",
    "    parameters['b1'][1][0] = parameters['b1'][1][0] + (0.001 * 2 * (y - y_hat)* parameters['W2'][1][0])"
   ]
  },
  {
   "cell_type": "code",
   "execution_count": 9,
   "metadata": {
    "colab": {
     "base_uri": "https://localhost:8080/"
    },
    "id": "MwZnfsjy9nlT",
    "outputId": "76f7f8c1-9f02-4284-a2a7-02f569d07d23"
   },
   "outputs": [
    {
     "name": "stdout",
     "output_type": "stream",
     "text": [
      "\n",
      "\n",
      "Forward propagation....\n",
      "A0 :  [[8]\n",
      " [8]]\n",
      "W1 :  [[0.1 0.1]\n",
      " [0.1 0.1]]\n",
      "b1 :  [[0.]\n",
      " [0.]]\n",
      "----------------------------------------\n",
      "A1 :  [[1.6]\n",
      " [1.6]]\n",
      "****************************************\n",
      "A1 :  [[1.6]\n",
      " [1.6]]\n",
      "W2 :  [[0.1]\n",
      " [0.1]]\n",
      "b2 :  [[0.]]\n",
      "----------------------------------------\n",
      "A2 :  [[0.32]]\n",
      "****************************************\n",
      "Backward propagation....\n",
      "\n",
      "Updated parameters....\n",
      "{'W1': array([[0.10658137, 0.10658137],\n",
      "       [0.10658137, 0.10658137]]), 'b1': array([[0.00082267],\n",
      "       [0.00082267]]), 'W2': array([[0.111776],\n",
      "       [0.111776]]), 'b2': array([[0.00736]])}\n",
      "\n",
      "\n",
      "Forward propagation....\n",
      "A0 :  [[7]\n",
      " [9]]\n",
      "W1 :  [[0.10658137 0.10658137]\n",
      " [0.10658137 0.10658137]]\n",
      "b1 :  [[0.00082267]\n",
      " [0.00082267]]\n",
      "----------------------------------------\n",
      "A1 :  [[1.70612461]\n",
      " [1.70612461]]\n",
      "****************************************\n",
      "A1 :  [[1.70612461]\n",
      " [1.70612461]]\n",
      "W2 :  [[0.111776]\n",
      " [0.111776]]\n",
      "b2 :  [[0.00736]]\n",
      "----------------------------------------\n",
      "A2 :  [[0.38876757]]\n",
      "****************************************\n",
      "Backward propagation....\n",
      "\n",
      "Updated parameters....\n",
      "{'W1': array([[0.11481311, 0.11716504],\n",
      "       [0.11481311, 0.11716504]]), 'b1': array([[0.00199863],\n",
      "       [0.00199863]]), 'W2': array([[0.12751067],\n",
      "       [0.12751067]]), 'b2': array([[0.01658246]])}\n",
      "\n",
      "\n",
      "Forward propagation....\n",
      "A0 :  [[ 6]\n",
      " [10]]\n",
      "W1 :  [[0.11481311 0.11716504]\n",
      " [0.11481311 0.11716504]]\n",
      "b1 :  [[0.00199863]\n",
      " [0.00199863]]\n",
      "----------------------------------------\n",
      "A1 :  [[1.83900839]\n",
      " [1.8766392 ]]\n",
      "****************************************\n",
      "A1 :  [[1.83900839]\n",
      " [1.8766392 ]]\n",
      "W2 :  [[0.12751067]\n",
      " [0.12751067]]\n",
      "b2 :  [[0.01658246]]\n",
      "----------------------------------------\n",
      "A2 :  [[0.49036719]]\n",
      "****************************************\n",
      "Backward propagation....\n",
      "\n",
      "Updated parameters....\n",
      "{'W1': array([[0.12458335, 0.13344878],\n",
      "       [0.12461077, 0.13349447]]), 'b1': array([[0.00362701],\n",
      "       [0.00363158]]), 'W2': array([[0.1477752 ],\n",
      "       [0.14818986]]), 'b2': array([[0.02760173]])}\n",
      "\n",
      "\n",
      "Forward propagation....\n",
      "A0 :  [[ 5]\n",
      " [12]]\n",
      "W1 :  [[0.12458335 0.13344878]\n",
      " [0.12461077 0.13349447]]\n",
      "b1 :  [[0.00362701]\n",
      " [0.00363158]]\n",
      "----------------------------------------\n",
      "A1 :  [[2.12187303]\n",
      " [2.2728091 ]]\n",
      "****************************************\n",
      "A1 :  [[2.12187303]\n",
      " [2.2728091 ]]\n",
      "W2 :  [[0.1477752 ]\n",
      " [0.14818986]]\n",
      "b2 :  [[0.02760173]]\n",
      "----------------------------------------\n",
      "A2 :  [[0.6779692]]\n",
      "****************************************\n",
      "Backward propagation....\n",
      "\n",
      "Updated parameters....\n",
      "{'W1': array([[0.13562189, 0.15994127],\n",
      "       [0.13579618, 0.16033944]]), 'b1': array([[0.00583472],\n",
      "       [0.00586866]]), 'W2': array([[0.17460429],\n",
      "       [0.1769274 ]]), 'b2': array([[0.04024579]])}\n"
     ]
    }
   ],
   "source": [
    "parameters = initialize_parameters([2,2,1])\n",
    "\n",
    "for i in range (df.shape[0]):\n",
    "        #\n",
    "        X = df[['cgpa', 'profile_score']].values[i].reshape(2,1)\n",
    "        y = df[['lpa']].values[i][0]\n",
    "\n",
    "        print(\"\\n\\nForward propagation....\")\n",
    "        # parameter initialization\n",
    "        y_hat, A1 = L_layer_forward(X, parameters)\n",
    "        y_hat = y_hat[0][0]\n",
    "\n",
    "        print(\"Backward propagation....\")\n",
    "        update_parameters(parameters, y, y_hat, A1, X)\n",
    "\n",
    "        print(\"\\nUpdated parameters....\")\n",
    "        print(parameters)"
   ]
  },
  {
   "cell_type": "code",
   "execution_count": 10,
   "metadata": {
    "id": "p1J466At9pJy"
   },
   "outputs": [],
   "source": [
    "def L_layer_forward(X, parameters):\n",
    "\n",
    "    A = X\n",
    "    L = len(parameters) // 2\n",
    "\n",
    "    for l in range (1, L+1):\n",
    "        A_prev = A\n",
    "        W1 = parameters['W' + str(l)]\n",
    "        b1 = parameters['b' + str(l)]\n",
    "#         print(\"A\" + str(l-1) + \" : \" , A_prev)\n",
    "#         print(\"W\" + str(l) + \" : \" , W1)\n",
    "#         print(\"b\" + str(l) + \" : \", b1)\n",
    "#         print(\"--\" * 20)\n",
    "\n",
    "        A = linear_forward(A_prev, W1, b1)\n",
    "#         print(\"A\" + str(l) + \" : \", A)\n",
    "#         print(\"**\" * 20)\n",
    "\n",
    "    return A, A_prev"
   ]
  },
  {
   "cell_type": "code",
   "execution_count": 11,
   "metadata": {
    "colab": {
     "base_uri": "https://localhost:8080/"
    },
    "id": "BtwCe6JR96Kz",
    "outputId": "4a4ed745-090c-4bb9-cde0-59cdfdd9cb5e"
   },
   "outputs": [
    {
     "name": "stdout",
     "output_type": "stream",
     "text": [
      "Epoch - 1, loss - 26.28249792398698\n",
      "\n",
      "\n",
      "\n",
      "Epoch - 2, loss - 19.438253848220803\n",
      "\n",
      "\n",
      "\n",
      "Epoch - 3, loss - 10.139874435827522\n",
      "\n",
      "\n",
      "\n",
      "Epoch - 4, loss - 3.385561305106485\n",
      "\n",
      "\n",
      "\n",
      "Epoch - 5, loss - 1.3198454128484565\n",
      "\n",
      "\n",
      "\n"
     ]
    }
   ],
   "source": [
    "parameters = initialize_parameters([2,2,1])\n",
    "epochs =5\n",
    "\n",
    "for i in range(epochs):\n",
    "    loss = []\n",
    "\n",
    "    for j in range (df.shape[0]):\n",
    "        #\n",
    "        X = df[['cgpa', 'profile_score']].values[j].reshape(2,1)\n",
    "        y = df[['lpa']].values[j][0]\n",
    "\n",
    "        # parameter initialization\n",
    "        y_hat, A1 = L_layer_forward(X, parameters)\n",
    "        y_hat = y_hat[0][0]\n",
    "\n",
    "        update_parameters(parameters, y, y_hat, A1, X)\n",
    "\n",
    "        loss.append((y - y_hat)**2)\n",
    "\n",
    "    print(f'Epoch - {i+1}, loss - {np.array(loss).mean()}\\n\\n\\n')"
   ]
  },
  {
   "cell_type": "code",
   "execution_count": 12,
   "metadata": {
    "colab": {
     "base_uri": "https://localhost:8080/"
    },
    "id": "7sU1y5r499EI",
    "outputId": "0a20d0bb-e578-4b53-ace5-76566d1ea78e"
   },
   "outputs": [
    {
     "data": {
      "text/plain": [
       "{'W1': array([[0.273603  , 0.3993222 ],\n",
       "        [0.28787155, 0.42586102]]),\n",
       " 'b1': array([[0.02885522],\n",
       "        [0.03133223]]),\n",
       " 'W2': array([[0.42574893],\n",
       "        [0.50219328]]),\n",
       " 'b2': array([[0.11841278]])}"
      ]
     },
     "execution_count": 12,
     "metadata": {},
     "output_type": "execute_result"
    }
   ],
   "source": [
    "parameters"
   ]
  },
  {
   "cell_type": "code",
   "execution_count": 12,
   "metadata": {
    "id": "fDRUdzCf9_Dw"
   },
   "outputs": [],
   "source": []
  },
  {
   "cell_type": "code",
   "execution_count": 12,
   "metadata": {
    "id": "CNNJPwNR-CWt"
   },
   "outputs": [],
   "source": []
  },
  {
   "cell_type": "code",
   "execution_count": 12,
   "metadata": {
    "id": "k_f5HGtr-CTU"
   },
   "outputs": [],
   "source": []
  },
  {
   "cell_type": "code",
   "execution_count": 13,
   "metadata": {
    "id": "gvdkqXUq-CQs"
   },
   "outputs": [],
   "source": [
    "import tensorflow\n",
    "from tensorflow import keras\n",
    "from keras import Sequential\n",
    "from keras.layers import Dense"
   ]
  },
  {
   "cell_type": "code",
   "execution_count": 14,
   "metadata": {
    "id": "IuHuIyUX-COL"
   },
   "outputs": [],
   "source": [
    "model = Sequential()\n",
    "\n",
    "model.add(Dense(2, activation='linear', input_dim=2))\n",
    "model.add(Dense(1, activation='linear'))"
   ]
  },
  {
   "cell_type": "code",
   "execution_count": 15,
   "metadata": {
    "colab": {
     "base_uri": "https://localhost:8080/"
    },
    "id": "jhQ12ZJL-IyN",
    "outputId": "ce26293d-78c4-4237-e387-dabf63b04fba"
   },
   "outputs": [
    {
     "name": "stdout",
     "output_type": "stream",
     "text": [
      "Model: \"sequential\"\n",
      "_________________________________________________________________\n",
      " Layer (type)                Output Shape              Param #   \n",
      "=================================================================\n",
      " dense (Dense)               (None, 2)                 6         \n",
      "                                                                 \n",
      " dense_1 (Dense)             (None, 1)                 3         \n",
      "                                                                 \n",
      "=================================================================\n",
      "Total params: 9 (36.00 Byte)\n",
      "Trainable params: 9 (36.00 Byte)\n",
      "Non-trainable params: 0 (0.00 Byte)\n",
      "_________________________________________________________________\n"
     ]
    }
   ],
   "source": [
    "model.summary()"
   ]
  },
  {
   "cell_type": "code",
   "execution_count": 16,
   "metadata": {
    "colab": {
     "base_uri": "https://localhost:8080/"
    },
    "id": "0S--_MWz-ge_",
    "outputId": "be3dccee-500c-45a1-a30d-a3590cda83b6"
   },
   "outputs": [
    {
     "data": {
      "text/plain": [
       "[array([[-0.34988868, -0.16375852],\n",
       "        [-0.00637674,  1.0976993 ]], dtype=float32),\n",
       " array([0., 0.], dtype=float32),\n",
       " array([[ 0.88645947],\n",
       "        [-0.19900727]], dtype=float32),\n",
       " array([0.], dtype=float32)]"
      ]
     },
     "execution_count": 16,
     "metadata": {},
     "output_type": "execute_result"
    }
   ],
   "source": [
    "model.get_weights()"
   ]
  },
  {
   "cell_type": "code",
   "execution_count": 19,
   "metadata": {
    "id": "HYySpV6f-nEn"
   },
   "outputs": [],
   "source": [
    "new_weights = [np.array([[0.1, 0.1], [0.1,  0.1 ]], dtype=np.float32),\n",
    "               np.array([0., 0.], dtype=np.float32),\n",
    "               np.array([[ 0.1], [0.1]], dtype=np.float32),\n",
    "               np.array([0.], dtype=np.float32)]"
   ]
  },
  {
   "cell_type": "code",
   "execution_count": 20,
   "metadata": {
    "id": "DwA790A3-u6_"
   },
   "outputs": [],
   "source": [
    "model.set_weights(new_weights)"
   ]
  },
  {
   "cell_type": "code",
   "execution_count": 21,
   "metadata": {
    "id": "0uZGesfU_7ov"
   },
   "outputs": [],
   "source": [
    "optimizer = keras.optimizers.Adam(learning_rate=0.001)\n",
    "model.compile(loss='mean_squared_error', optimizer=optimizer)"
   ]
  },
  {
   "cell_type": "code",
   "execution_count": 25,
   "metadata": {
    "colab": {
     "base_uri": "https://localhost:8080/"
    },
    "id": "BJA2R7-WAOJx",
    "outputId": "1e96a2d0-a51d-4473-fa56-74846803caef"
   },
   "outputs": [
    {
     "name": "stdout",
     "output_type": "stream",
     "text": [
      "Epoch 1/75\n",
      "4/4 [==============================] - 1s 5ms/step - loss: 27.8737\n",
      "Epoch 2/75\n",
      "4/4 [==============================] - 0s 4ms/step - loss: 27.5546\n",
      "Epoch 3/75\n",
      "4/4 [==============================] - 0s 4ms/step - loss: 27.2408\n",
      "Epoch 4/75\n",
      "4/4 [==============================] - 0s 3ms/step - loss: 26.9038\n",
      "Epoch 5/75\n",
      "4/4 [==============================] - 0s 4ms/step - loss: 26.5273\n",
      "Epoch 6/75\n",
      "4/4 [==============================] - 0s 5ms/step - loss: 26.1715\n",
      "Epoch 7/75\n",
      "4/4 [==============================] - 0s 5ms/step - loss: 25.8216\n",
      "Epoch 8/75\n",
      "4/4 [==============================] - 0s 3ms/step - loss: 25.4419\n",
      "Epoch 9/75\n",
      "4/4 [==============================] - 0s 3ms/step - loss: 25.0280\n",
      "Epoch 10/75\n",
      "4/4 [==============================] - 0s 4ms/step - loss: 24.6453\n",
      "Epoch 11/75\n",
      "4/4 [==============================] - 0s 4ms/step - loss: 24.1983\n",
      "Epoch 12/75\n",
      "4/4 [==============================] - 0s 4ms/step - loss: 23.7772\n",
      "Epoch 13/75\n",
      "4/4 [==============================] - 0s 3ms/step - loss: 23.3877\n",
      "Epoch 14/75\n",
      "4/4 [==============================] - 0s 3ms/step - loss: 22.9182\n",
      "Epoch 15/75\n",
      "4/4 [==============================] - 0s 3ms/step - loss: 22.4455\n",
      "Epoch 16/75\n",
      "4/4 [==============================] - 0s 3ms/step - loss: 21.9800\n",
      "Epoch 17/75\n",
      "4/4 [==============================] - 0s 3ms/step - loss: 21.5466\n",
      "Epoch 18/75\n",
      "4/4 [==============================] - 0s 4ms/step - loss: 21.0461\n",
      "Epoch 19/75\n",
      "4/4 [==============================] - 0s 3ms/step - loss: 20.5546\n",
      "Epoch 20/75\n",
      "4/4 [==============================] - 0s 4ms/step - loss: 20.0496\n",
      "Epoch 21/75\n",
      "4/4 [==============================] - 0s 4ms/step - loss: 19.5104\n",
      "Epoch 22/75\n",
      "4/4 [==============================] - 0s 5ms/step - loss: 19.0327\n",
      "Epoch 23/75\n",
      "4/4 [==============================] - 0s 4ms/step - loss: 18.5044\n",
      "Epoch 24/75\n",
      "4/4 [==============================] - 0s 5ms/step - loss: 17.9913\n",
      "Epoch 25/75\n",
      "4/4 [==============================] - 0s 4ms/step - loss: 17.5307\n",
      "Epoch 26/75\n",
      "4/4 [==============================] - 0s 4ms/step - loss: 16.9777\n",
      "Epoch 27/75\n",
      "4/4 [==============================] - 0s 3ms/step - loss: 16.4629\n",
      "Epoch 28/75\n",
      "4/4 [==============================] - 0s 4ms/step - loss: 15.9304\n",
      "Epoch 29/75\n",
      "4/4 [==============================] - 0s 4ms/step - loss: 15.3925\n",
      "Epoch 30/75\n",
      "4/4 [==============================] - 0s 4ms/step - loss: 14.8161\n",
      "Epoch 31/75\n",
      "4/4 [==============================] - 0s 4ms/step - loss: 14.3460\n",
      "Epoch 32/75\n",
      "4/4 [==============================] - 0s 3ms/step - loss: 13.8058\n",
      "Epoch 33/75\n",
      "4/4 [==============================] - 0s 4ms/step - loss: 13.3451\n",
      "Epoch 34/75\n",
      "4/4 [==============================] - 0s 4ms/step - loss: 12.7427\n",
      "Epoch 35/75\n",
      "4/4 [==============================] - 0s 6ms/step - loss: 12.3314\n",
      "Epoch 36/75\n",
      "4/4 [==============================] - 0s 4ms/step - loss: 11.7651\n",
      "Epoch 37/75\n",
      "4/4 [==============================] - 0s 3ms/step - loss: 11.2970\n",
      "Epoch 38/75\n",
      "4/4 [==============================] - 0s 4ms/step - loss: 10.7919\n",
      "Epoch 39/75\n",
      "4/4 [==============================] - 0s 4ms/step - loss: 10.3465\n",
      "Epoch 40/75\n",
      "4/4 [==============================] - 0s 4ms/step - loss: 9.8748\n",
      "Epoch 41/75\n",
      "4/4 [==============================] - 0s 4ms/step - loss: 9.3746\n",
      "Epoch 42/75\n",
      "4/4 [==============================] - 0s 4ms/step - loss: 8.9798\n",
      "Epoch 43/75\n",
      "4/4 [==============================] - 0s 4ms/step - loss: 8.5534\n",
      "Epoch 44/75\n",
      "4/4 [==============================] - 0s 4ms/step - loss: 8.0830\n",
      "Epoch 45/75\n",
      "4/4 [==============================] - 0s 4ms/step - loss: 7.6845\n",
      "Epoch 46/75\n",
      "4/4 [==============================] - 0s 4ms/step - loss: 7.2662\n",
      "Epoch 47/75\n",
      "4/4 [==============================] - 0s 4ms/step - loss: 6.8835\n",
      "Epoch 48/75\n",
      "4/4 [==============================] - 0s 4ms/step - loss: 6.5934\n",
      "Epoch 49/75\n",
      "4/4 [==============================] - 0s 4ms/step - loss: 6.1541\n",
      "Epoch 50/75\n",
      "4/4 [==============================] - 0s 4ms/step - loss: 5.8596\n",
      "Epoch 51/75\n",
      "4/4 [==============================] - 0s 3ms/step - loss: 5.4991\n",
      "Epoch 52/75\n",
      "4/4 [==============================] - 0s 4ms/step - loss: 5.2306\n",
      "Epoch 53/75\n",
      "4/4 [==============================] - 0s 4ms/step - loss: 4.8610\n",
      "Epoch 54/75\n",
      "4/4 [==============================] - 0s 4ms/step - loss: 4.6413\n",
      "Epoch 55/75\n",
      "4/4 [==============================] - 0s 4ms/step - loss: 4.3271\n",
      "Epoch 56/75\n",
      "4/4 [==============================] - 0s 4ms/step - loss: 4.0895\n",
      "Epoch 57/75\n",
      "4/4 [==============================] - 0s 6ms/step - loss: 3.8218\n",
      "Epoch 58/75\n",
      "4/4 [==============================] - 0s 4ms/step - loss: 3.6423\n",
      "Epoch 59/75\n",
      "4/4 [==============================] - 0s 4ms/step - loss: 3.3944\n",
      "Epoch 60/75\n",
      "4/4 [==============================] - 0s 4ms/step - loss: 3.1850\n",
      "Epoch 61/75\n",
      "4/4 [==============================] - 0s 4ms/step - loss: 3.0290\n",
      "Epoch 62/75\n",
      "4/4 [==============================] - 0s 4ms/step - loss: 2.8641\n",
      "Epoch 63/75\n",
      "4/4 [==============================] - 0s 3ms/step - loss: 2.6679\n",
      "Epoch 64/75\n",
      "4/4 [==============================] - 0s 4ms/step - loss: 2.5584\n",
      "Epoch 65/75\n",
      "4/4 [==============================] - 0s 3ms/step - loss: 2.3978\n",
      "Epoch 66/75\n",
      "4/4 [==============================] - 0s 3ms/step - loss: 2.2771\n",
      "Epoch 67/75\n",
      "4/4 [==============================] - 0s 4ms/step - loss: 2.1410\n",
      "Epoch 68/75\n",
      "4/4 [==============================] - 0s 5ms/step - loss: 2.0237\n",
      "Epoch 69/75\n",
      "4/4 [==============================] - 0s 4ms/step - loss: 1.9098\n",
      "Epoch 70/75\n",
      "4/4 [==============================] - 0s 4ms/step - loss: 1.8531\n",
      "Epoch 71/75\n",
      "4/4 [==============================] - 0s 4ms/step - loss: 1.7565\n",
      "Epoch 72/75\n",
      "4/4 [==============================] - 0s 4ms/step - loss: 1.6901\n",
      "Epoch 73/75\n",
      "4/4 [==============================] - 0s 3ms/step - loss: 1.6292\n",
      "Epoch 74/75\n",
      "4/4 [==============================] - 0s 4ms/step - loss: 1.5673\n",
      "Epoch 75/75\n",
      "4/4 [==============================] - 0s 3ms/step - loss: 1.4845\n"
     ]
    },
    {
     "data": {
      "text/plain": [
       "<keras.src.callbacks.History at 0x7947d216c790>"
      ]
     },
     "execution_count": 25,
     "metadata": {},
     "output_type": "execute_result"
    }
   ],
   "source": [
    "model.fit(df[['cgpa', 'profile_score']].values, df['lpa'].values, epochs=75,verbose=1, batch_size=1)"
   ]
  },
  {
   "cell_type": "code",
   "execution_count": 26,
   "metadata": {
    "colab": {
     "base_uri": "https://localhost:8080/"
    },
    "id": "EhHplHNtA1j8",
    "outputId": "41c7899d-8178-4212-f7d3-219d0bd58b8f"
   },
   "outputs": [
    {
     "data": {
      "text/plain": [
       "[array([[0.37365255, 0.37365255],\n",
       "        [0.3659122 , 0.3659122 ]], dtype=float32),\n",
       " array([0.27249423, 0.27249423], dtype=float32),\n",
       " array([[0.3731108],\n",
       "        [0.3731108]], dtype=float32),\n",
       " array([0.20505069], dtype=float32)]"
      ]
     },
     "execution_count": 26,
     "metadata": {},
     "output_type": "execute_result"
    }
   ],
   "source": [
    "model.get_weights()"
   ]
  },
  {
   "cell_type": "code",
   "execution_count": 27,
   "metadata": {
    "colab": {
     "base_uri": "https://localhost:8080/"
    },
    "id": "lw_ADeAbBOOZ",
    "outputId": "bb55f5d7-b8e4-43f4-dbdd-0d1228b2e2ef"
   },
   "outputs": [
    {
     "data": {
      "text/plain": [
       "{'W1': array([[0.273603  , 0.3993222 ],\n",
       "        [0.28787155, 0.42586102]]),\n",
       " 'b1': array([[0.02885522],\n",
       "        [0.03133223]]),\n",
       " 'W2': array([[0.42574893],\n",
       "        [0.50219328]]),\n",
       " 'b2': array([[0.11841278]])}"
      ]
     },
     "execution_count": 27,
     "metadata": {},
     "output_type": "execute_result"
    }
   ],
   "source": [
    "parameters"
   ]
  },
  {
   "cell_type": "code",
   "execution_count": null,
   "metadata": {
    "id": "Dj1sYCafBT6G"
   },
   "outputs": [],
   "source": []
  }
 ],
 "metadata": {
  "accelerator": "GPU",
  "colab": {
   "gpuType": "T4",
   "provenance": []
  },
  "kernelspec": {
   "display_name": "Python 3",
   "name": "python3"
  },
  "language_info": {
   "name": "python"
  }
 },
 "nbformat": 4,
 "nbformat_minor": 0
}
