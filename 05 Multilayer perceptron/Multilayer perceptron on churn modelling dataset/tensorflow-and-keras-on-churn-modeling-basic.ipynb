{
 "cells": [
  {
   "cell_type": "code",
   "execution_count": 1,
   "id": "4de381f4",
   "metadata": {
    "_cell_guid": "b1076dfc-b9ad-4769-8c92-a6c4dae69d19",
    "_uuid": "8f2839f25d086af736a60e9eeb907d3b93b6e0e5",
    "execution": {
     "iopub.execute_input": "2024-05-10T12:40:27.391321Z",
     "iopub.status.busy": "2024-05-10T12:40:27.390595Z",
     "iopub.status.idle": "2024-05-10T12:40:28.329952Z",
     "shell.execute_reply": "2024-05-10T12:40:28.328711Z"
    },
    "papermill": {
     "duration": 0.953993,
     "end_time": "2024-05-10T12:40:28.332436",
     "exception": false,
     "start_time": "2024-05-10T12:40:27.378443",
     "status": "completed"
    },
    "tags": []
   },
   "outputs": [
    {
     "name": "stdout",
     "output_type": "stream",
     "text": [
      "/kaggle/input/credit-card-customer-churn-prediction/Churn_Modelling.csv\n"
     ]
    }
   ],
   "source": [
    "# This Python 3 environment comes with many helpful analytics libraries installed\n",
    "# It is defined by the kaggle/python Docker image: https://github.com/kaggle/docker-python\n",
    "# For example, here's several helpful packages to load\n",
    "\n",
    "import numpy as np # linear algebra\n",
    "import pandas as pd # data processing, CSV file I/O (e.g. pd.read_csv)\n",
    "\n",
    "# Input data files are available in the read-only \"../input/\" directory\n",
    "# For example, running this (by clicking run or pressing Shift+Enter) will list all files under the input directory\n",
    "\n",
    "import os\n",
    "for dirname, _, filenames in os.walk('/kaggle/input'):\n",
    "    for filename in filenames:\n",
    "        print(os.path.join(dirname, filename))\n",
    "\n",
    "# You can write up to 20GB to the current directory (/kaggle/working/) that gets preserved as output when you create a version using \"Save & Run All\" \n",
    "# You can also write temporary files to /kaggle/temp/, but they won't be saved outside of the current session"
   ]
  },
  {
   "cell_type": "markdown",
   "id": "eda2560b",
   "metadata": {
    "papermill": {
     "duration": 0.009892,
     "end_time": "2024-05-10T12:40:28.353826",
     "exception": false,
     "start_time": "2024-05-10T12:40:28.343934",
     "status": "completed"
    },
    "tags": []
   },
   "source": [
    "### Reading Dataset"
   ]
  },
  {
   "cell_type": "code",
   "execution_count": 2,
   "id": "5a9892ff",
   "metadata": {
    "execution": {
     "iopub.execute_input": "2024-05-10T12:40:28.377083Z",
     "iopub.status.busy": "2024-05-10T12:40:28.376585Z",
     "iopub.status.idle": "2024-05-10T12:40:28.422141Z",
     "shell.execute_reply": "2024-05-10T12:40:28.420741Z"
    },
    "papermill": {
     "duration": 0.06057,
     "end_time": "2024-05-10T12:40:28.425131",
     "exception": false,
     "start_time": "2024-05-10T12:40:28.364561",
     "status": "completed"
    },
    "tags": []
   },
   "outputs": [],
   "source": [
    "df = pd.read_csv(\"/kaggle/input/credit-card-customer-churn-prediction/Churn_Modelling.csv\")"
   ]
  },
  {
   "cell_type": "markdown",
   "id": "0a5436a5",
   "metadata": {
    "papermill": {
     "duration": 0.009441,
     "end_time": "2024-05-10T12:40:28.446618",
     "exception": false,
     "start_time": "2024-05-10T12:40:28.437177",
     "status": "completed"
    },
    "tags": []
   },
   "source": [
    "### Knowing about dataset"
   ]
  },
  {
   "cell_type": "code",
   "execution_count": 3,
   "id": "df9aed3c",
   "metadata": {
    "execution": {
     "iopub.execute_input": "2024-05-10T12:40:28.467623Z",
     "iopub.status.busy": "2024-05-10T12:40:28.467224Z",
     "iopub.status.idle": "2024-05-10T12:40:28.502517Z",
     "shell.execute_reply": "2024-05-10T12:40:28.500949Z"
    },
    "papermill": {
     "duration": 0.048989,
     "end_time": "2024-05-10T12:40:28.505448",
     "exception": false,
     "start_time": "2024-05-10T12:40:28.456459",
     "status": "completed"
    },
    "tags": []
   },
   "outputs": [
    {
     "name": "stdout",
     "output_type": "stream",
     "text": [
      "<class 'pandas.core.frame.DataFrame'>\n",
      "RangeIndex: 10000 entries, 0 to 9999\n",
      "Data columns (total 14 columns):\n",
      " #   Column           Non-Null Count  Dtype  \n",
      "---  ------           --------------  -----  \n",
      " 0   RowNumber        10000 non-null  int64  \n",
      " 1   CustomerId       10000 non-null  int64  \n",
      " 2   Surname          10000 non-null  object \n",
      " 3   CreditScore      10000 non-null  int64  \n",
      " 4   Geography        10000 non-null  object \n",
      " 5   Gender           10000 non-null  object \n",
      " 6   Age              10000 non-null  int64  \n",
      " 7   Tenure           10000 non-null  int64  \n",
      " 8   Balance          10000 non-null  float64\n",
      " 9   NumOfProducts    10000 non-null  int64  \n",
      " 10  HasCrCard        10000 non-null  int64  \n",
      " 11  IsActiveMember   10000 non-null  int64  \n",
      " 12  EstimatedSalary  10000 non-null  float64\n",
      " 13  Exited           10000 non-null  int64  \n",
      "dtypes: float64(2), int64(9), object(3)\n",
      "memory usage: 1.1+ MB\n"
     ]
    }
   ],
   "source": [
    "df.info()"
   ]
  },
  {
   "cell_type": "markdown",
   "id": "17d1c4dc",
   "metadata": {
    "papermill": {
     "duration": 0.010381,
     "end_time": "2024-05-10T12:40:28.525817",
     "exception": false,
     "start_time": "2024-05-10T12:40:28.515436",
     "status": "completed"
    },
    "tags": []
   },
   "source": [
    "### Checking for duplicated values"
   ]
  },
  {
   "cell_type": "code",
   "execution_count": 4,
   "id": "4f8a77a8",
   "metadata": {
    "execution": {
     "iopub.execute_input": "2024-05-10T12:40:28.547030Z",
     "iopub.status.busy": "2024-05-10T12:40:28.546649Z",
     "iopub.status.idle": "2024-05-10T12:40:28.563041Z",
     "shell.execute_reply": "2024-05-10T12:40:28.561924Z"
    },
    "papermill": {
     "duration": 0.029613,
     "end_time": "2024-05-10T12:40:28.565324",
     "exception": false,
     "start_time": "2024-05-10T12:40:28.535711",
     "status": "completed"
    },
    "tags": []
   },
   "outputs": [
    {
     "data": {
      "text/plain": [
       "0"
      ]
     },
     "execution_count": 4,
     "metadata": {},
     "output_type": "execute_result"
    }
   ],
   "source": [
    "df.duplicated().sum()"
   ]
  },
  {
   "cell_type": "markdown",
   "id": "74ab0dc0",
   "metadata": {
    "papermill": {
     "duration": 0.009929,
     "end_time": "2024-05-10T12:40:28.586180",
     "exception": false,
     "start_time": "2024-05-10T12:40:28.576251",
     "status": "completed"
    },
    "tags": []
   },
   "source": [
    "### Checking for Diversity in Categorical Columns"
   ]
  },
  {
   "cell_type": "code",
   "execution_count": 5,
   "id": "5d1cccbb",
   "metadata": {
    "execution": {
     "iopub.execute_input": "2024-05-10T12:40:28.608400Z",
     "iopub.status.busy": "2024-05-10T12:40:28.608047Z",
     "iopub.status.idle": "2024-05-10T12:40:28.617814Z",
     "shell.execute_reply": "2024-05-10T12:40:28.616669Z"
    },
    "papermill": {
     "duration": 0.023854,
     "end_time": "2024-05-10T12:40:28.620053",
     "exception": false,
     "start_time": "2024-05-10T12:40:28.596199",
     "status": "completed"
    },
    "tags": []
   },
   "outputs": [
    {
     "data": {
      "text/plain": [
       "Exited\n",
       "0    7963\n",
       "1    2037\n",
       "Name: count, dtype: int64"
      ]
     },
     "execution_count": 5,
     "metadata": {},
     "output_type": "execute_result"
    }
   ],
   "source": [
    "df[\"Exited\"].value_counts()"
   ]
  },
  {
   "cell_type": "code",
   "execution_count": 6,
   "id": "4c5e6280",
   "metadata": {
    "execution": {
     "iopub.execute_input": "2024-05-10T12:40:28.642845Z",
     "iopub.status.busy": "2024-05-10T12:40:28.642450Z",
     "iopub.status.idle": "2024-05-10T12:40:28.652092Z",
     "shell.execute_reply": "2024-05-10T12:40:28.650969Z"
    },
    "papermill": {
     "duration": 0.02416,
     "end_time": "2024-05-10T12:40:28.654314",
     "exception": false,
     "start_time": "2024-05-10T12:40:28.630154",
     "status": "completed"
    },
    "tags": []
   },
   "outputs": [
    {
     "data": {
      "text/plain": [
       "Geography\n",
       "France     5014\n",
       "Germany    2509\n",
       "Spain      2477\n",
       "Name: count, dtype: int64"
      ]
     },
     "execution_count": 6,
     "metadata": {},
     "output_type": "execute_result"
    }
   ],
   "source": [
    "df[\"Geography\"].value_counts()"
   ]
  },
  {
   "cell_type": "code",
   "execution_count": 7,
   "id": "d137d9c3",
   "metadata": {
    "execution": {
     "iopub.execute_input": "2024-05-10T12:40:28.678916Z",
     "iopub.status.busy": "2024-05-10T12:40:28.678238Z",
     "iopub.status.idle": "2024-05-10T12:40:28.688596Z",
     "shell.execute_reply": "2024-05-10T12:40:28.687385Z"
    },
    "papermill": {
     "duration": 0.025133,
     "end_time": "2024-05-10T12:40:28.691026",
     "exception": false,
     "start_time": "2024-05-10T12:40:28.665893",
     "status": "completed"
    },
    "tags": []
   },
   "outputs": [
    {
     "data": {
      "text/plain": [
       "Gender\n",
       "Male      5457\n",
       "Female    4543\n",
       "Name: count, dtype: int64"
      ]
     },
     "execution_count": 7,
     "metadata": {},
     "output_type": "execute_result"
    }
   ],
   "source": [
    "df[\"Gender\"].value_counts()"
   ]
  },
  {
   "cell_type": "markdown",
   "id": "30e9c1e2",
   "metadata": {
    "papermill": {
     "duration": 0.01017,
     "end_time": "2024-05-10T12:40:28.711967",
     "exception": false,
     "start_time": "2024-05-10T12:40:28.701797",
     "status": "completed"
    },
    "tags": []
   },
   "source": [
    "### Droping rows that are not required"
   ]
  },
  {
   "cell_type": "code",
   "execution_count": 8,
   "id": "2fcbd561",
   "metadata": {
    "execution": {
     "iopub.execute_input": "2024-05-10T12:40:28.735071Z",
     "iopub.status.busy": "2024-05-10T12:40:28.734691Z",
     "iopub.status.idle": "2024-05-10T12:40:28.745581Z",
     "shell.execute_reply": "2024-05-10T12:40:28.744101Z"
    },
    "papermill": {
     "duration": 0.025625,
     "end_time": "2024-05-10T12:40:28.748471",
     "exception": false,
     "start_time": "2024-05-10T12:40:28.722846",
     "status": "completed"
    },
    "tags": []
   },
   "outputs": [],
   "source": [
    "df.drop([\"RowNumber\", \"CustomerId\", \"Surname\"], axis=1, inplace=True)"
   ]
  },
  {
   "cell_type": "markdown",
   "id": "08961d37",
   "metadata": {
    "papermill": {
     "duration": 0.010249,
     "end_time": "2024-05-10T12:40:28.769107",
     "exception": false,
     "start_time": "2024-05-10T12:40:28.758858",
     "status": "completed"
    },
    "tags": []
   },
   "source": [
    "### Converting Categorical fetures to numerical"
   ]
  },
  {
   "cell_type": "code",
   "execution_count": 9,
   "id": "bac62fec",
   "metadata": {
    "execution": {
     "iopub.execute_input": "2024-05-10T12:40:28.792147Z",
     "iopub.status.busy": "2024-05-10T12:40:28.791775Z",
     "iopub.status.idle": "2024-05-10T12:40:28.803717Z",
     "shell.execute_reply": "2024-05-10T12:40:28.802520Z"
    },
    "papermill": {
     "duration": 0.026121,
     "end_time": "2024-05-10T12:40:28.806414",
     "exception": false,
     "start_time": "2024-05-10T12:40:28.780293",
     "status": "completed"
    },
    "tags": []
   },
   "outputs": [],
   "source": [
    "df = pd.get_dummies(df, columns=[\"Geography\", \"Gender\"], drop_first=True)"
   ]
  },
  {
   "cell_type": "code",
   "execution_count": 10,
   "id": "0428da3c",
   "metadata": {
    "execution": {
     "iopub.execute_input": "2024-05-10T12:40:28.831449Z",
     "iopub.status.busy": "2024-05-10T12:40:28.831051Z",
     "iopub.status.idle": "2024-05-10T12:40:28.856875Z",
     "shell.execute_reply": "2024-05-10T12:40:28.855927Z"
    },
    "papermill": {
     "duration": 0.039959,
     "end_time": "2024-05-10T12:40:28.858948",
     "exception": false,
     "start_time": "2024-05-10T12:40:28.818989",
     "status": "completed"
    },
    "tags": []
   },
   "outputs": [
    {
     "data": {
      "text/html": [
       "<div>\n",
       "<style scoped>\n",
       "    .dataframe tbody tr th:only-of-type {\n",
       "        vertical-align: middle;\n",
       "    }\n",
       "\n",
       "    .dataframe tbody tr th {\n",
       "        vertical-align: top;\n",
       "    }\n",
       "\n",
       "    .dataframe thead th {\n",
       "        text-align: right;\n",
       "    }\n",
       "</style>\n",
       "<table border=\"1\" class=\"dataframe\">\n",
       "  <thead>\n",
       "    <tr style=\"text-align: right;\">\n",
       "      <th></th>\n",
       "      <th>CreditScore</th>\n",
       "      <th>Age</th>\n",
       "      <th>Tenure</th>\n",
       "      <th>Balance</th>\n",
       "      <th>NumOfProducts</th>\n",
       "      <th>HasCrCard</th>\n",
       "      <th>IsActiveMember</th>\n",
       "      <th>EstimatedSalary</th>\n",
       "      <th>Exited</th>\n",
       "      <th>Geography_Germany</th>\n",
       "      <th>Geography_Spain</th>\n",
       "      <th>Gender_Male</th>\n",
       "    </tr>\n",
       "  </thead>\n",
       "  <tbody>\n",
       "    <tr>\n",
       "      <th>0</th>\n",
       "      <td>619</td>\n",
       "      <td>42</td>\n",
       "      <td>2</td>\n",
       "      <td>0.00</td>\n",
       "      <td>1</td>\n",
       "      <td>1</td>\n",
       "      <td>1</td>\n",
       "      <td>101348.88</td>\n",
       "      <td>1</td>\n",
       "      <td>False</td>\n",
       "      <td>False</td>\n",
       "      <td>False</td>\n",
       "    </tr>\n",
       "    <tr>\n",
       "      <th>1</th>\n",
       "      <td>608</td>\n",
       "      <td>41</td>\n",
       "      <td>1</td>\n",
       "      <td>83807.86</td>\n",
       "      <td>1</td>\n",
       "      <td>0</td>\n",
       "      <td>1</td>\n",
       "      <td>112542.58</td>\n",
       "      <td>0</td>\n",
       "      <td>False</td>\n",
       "      <td>True</td>\n",
       "      <td>False</td>\n",
       "    </tr>\n",
       "    <tr>\n",
       "      <th>2</th>\n",
       "      <td>502</td>\n",
       "      <td>42</td>\n",
       "      <td>8</td>\n",
       "      <td>159660.80</td>\n",
       "      <td>3</td>\n",
       "      <td>1</td>\n",
       "      <td>0</td>\n",
       "      <td>113931.57</td>\n",
       "      <td>1</td>\n",
       "      <td>False</td>\n",
       "      <td>False</td>\n",
       "      <td>False</td>\n",
       "    </tr>\n",
       "    <tr>\n",
       "      <th>3</th>\n",
       "      <td>699</td>\n",
       "      <td>39</td>\n",
       "      <td>1</td>\n",
       "      <td>0.00</td>\n",
       "      <td>2</td>\n",
       "      <td>0</td>\n",
       "      <td>0</td>\n",
       "      <td>93826.63</td>\n",
       "      <td>0</td>\n",
       "      <td>False</td>\n",
       "      <td>False</td>\n",
       "      <td>False</td>\n",
       "    </tr>\n",
       "    <tr>\n",
       "      <th>4</th>\n",
       "      <td>850</td>\n",
       "      <td>43</td>\n",
       "      <td>2</td>\n",
       "      <td>125510.82</td>\n",
       "      <td>1</td>\n",
       "      <td>1</td>\n",
       "      <td>1</td>\n",
       "      <td>79084.10</td>\n",
       "      <td>0</td>\n",
       "      <td>False</td>\n",
       "      <td>True</td>\n",
       "      <td>False</td>\n",
       "    </tr>\n",
       "    <tr>\n",
       "      <th>...</th>\n",
       "      <td>...</td>\n",
       "      <td>...</td>\n",
       "      <td>...</td>\n",
       "      <td>...</td>\n",
       "      <td>...</td>\n",
       "      <td>...</td>\n",
       "      <td>...</td>\n",
       "      <td>...</td>\n",
       "      <td>...</td>\n",
       "      <td>...</td>\n",
       "      <td>...</td>\n",
       "      <td>...</td>\n",
       "    </tr>\n",
       "    <tr>\n",
       "      <th>9995</th>\n",
       "      <td>771</td>\n",
       "      <td>39</td>\n",
       "      <td>5</td>\n",
       "      <td>0.00</td>\n",
       "      <td>2</td>\n",
       "      <td>1</td>\n",
       "      <td>0</td>\n",
       "      <td>96270.64</td>\n",
       "      <td>0</td>\n",
       "      <td>False</td>\n",
       "      <td>False</td>\n",
       "      <td>True</td>\n",
       "    </tr>\n",
       "    <tr>\n",
       "      <th>9996</th>\n",
       "      <td>516</td>\n",
       "      <td>35</td>\n",
       "      <td>10</td>\n",
       "      <td>57369.61</td>\n",
       "      <td>1</td>\n",
       "      <td>1</td>\n",
       "      <td>1</td>\n",
       "      <td>101699.77</td>\n",
       "      <td>0</td>\n",
       "      <td>False</td>\n",
       "      <td>False</td>\n",
       "      <td>True</td>\n",
       "    </tr>\n",
       "    <tr>\n",
       "      <th>9997</th>\n",
       "      <td>709</td>\n",
       "      <td>36</td>\n",
       "      <td>7</td>\n",
       "      <td>0.00</td>\n",
       "      <td>1</td>\n",
       "      <td>0</td>\n",
       "      <td>1</td>\n",
       "      <td>42085.58</td>\n",
       "      <td>1</td>\n",
       "      <td>False</td>\n",
       "      <td>False</td>\n",
       "      <td>False</td>\n",
       "    </tr>\n",
       "    <tr>\n",
       "      <th>9998</th>\n",
       "      <td>772</td>\n",
       "      <td>42</td>\n",
       "      <td>3</td>\n",
       "      <td>75075.31</td>\n",
       "      <td>2</td>\n",
       "      <td>1</td>\n",
       "      <td>0</td>\n",
       "      <td>92888.52</td>\n",
       "      <td>1</td>\n",
       "      <td>True</td>\n",
       "      <td>False</td>\n",
       "      <td>True</td>\n",
       "    </tr>\n",
       "    <tr>\n",
       "      <th>9999</th>\n",
       "      <td>792</td>\n",
       "      <td>28</td>\n",
       "      <td>4</td>\n",
       "      <td>130142.79</td>\n",
       "      <td>1</td>\n",
       "      <td>1</td>\n",
       "      <td>0</td>\n",
       "      <td>38190.78</td>\n",
       "      <td>0</td>\n",
       "      <td>False</td>\n",
       "      <td>False</td>\n",
       "      <td>False</td>\n",
       "    </tr>\n",
       "  </tbody>\n",
       "</table>\n",
       "<p>10000 rows × 12 columns</p>\n",
       "</div>"
      ],
      "text/plain": [
       "      CreditScore  Age  Tenure    Balance  NumOfProducts  HasCrCard  \\\n",
       "0             619   42       2       0.00              1          1   \n",
       "1             608   41       1   83807.86              1          0   \n",
       "2             502   42       8  159660.80              3          1   \n",
       "3             699   39       1       0.00              2          0   \n",
       "4             850   43       2  125510.82              1          1   \n",
       "...           ...  ...     ...        ...            ...        ...   \n",
       "9995          771   39       5       0.00              2          1   \n",
       "9996          516   35      10   57369.61              1          1   \n",
       "9997          709   36       7       0.00              1          0   \n",
       "9998          772   42       3   75075.31              2          1   \n",
       "9999          792   28       4  130142.79              1          1   \n",
       "\n",
       "      IsActiveMember  EstimatedSalary  Exited  Geography_Germany  \\\n",
       "0                  1        101348.88       1              False   \n",
       "1                  1        112542.58       0              False   \n",
       "2                  0        113931.57       1              False   \n",
       "3                  0         93826.63       0              False   \n",
       "4                  1         79084.10       0              False   \n",
       "...              ...              ...     ...                ...   \n",
       "9995               0         96270.64       0              False   \n",
       "9996               1        101699.77       0              False   \n",
       "9997               1         42085.58       1              False   \n",
       "9998               0         92888.52       1               True   \n",
       "9999               0         38190.78       0              False   \n",
       "\n",
       "      Geography_Spain  Gender_Male  \n",
       "0               False        False  \n",
       "1                True        False  \n",
       "2               False        False  \n",
       "3               False        False  \n",
       "4                True        False  \n",
       "...               ...          ...  \n",
       "9995            False         True  \n",
       "9996            False         True  \n",
       "9997            False        False  \n",
       "9998            False         True  \n",
       "9999            False        False  \n",
       "\n",
       "[10000 rows x 12 columns]"
      ]
     },
     "execution_count": 10,
     "metadata": {},
     "output_type": "execute_result"
    }
   ],
   "source": [
    "df"
   ]
  },
  {
   "cell_type": "markdown",
   "id": "982303af",
   "metadata": {
    "papermill": {
     "duration": 0.010509,
     "end_time": "2024-05-10T12:40:28.880102",
     "exception": false,
     "start_time": "2024-05-10T12:40:28.869593",
     "status": "completed"
    },
    "tags": []
   },
   "source": [
    "### Sampling - Train Test Split"
   ]
  },
  {
   "cell_type": "code",
   "execution_count": 11,
   "id": "216cbe23",
   "metadata": {
    "execution": {
     "iopub.execute_input": "2024-05-10T12:40:28.904593Z",
     "iopub.status.busy": "2024-05-10T12:40:28.903501Z",
     "iopub.status.idle": "2024-05-10T12:40:30.151191Z",
     "shell.execute_reply": "2024-05-10T12:40:30.150023Z"
    },
    "papermill": {
     "duration": 1.262611,
     "end_time": "2024-05-10T12:40:30.153776",
     "exception": false,
     "start_time": "2024-05-10T12:40:28.891165",
     "status": "completed"
    },
    "tags": []
   },
   "outputs": [],
   "source": [
    "X = df.drop([\"Exited\"], axis=1)\n",
    "y = df[\"Exited\"]\n",
    "\n",
    "from sklearn.model_selection import train_test_split\n",
    "X_train, X_test, y_train, y_test = train_test_split(X, y, test_size=0.2, random_state=1)"
   ]
  },
  {
   "cell_type": "code",
   "execution_count": 12,
   "id": "52341ebe",
   "metadata": {
    "execution": {
     "iopub.execute_input": "2024-05-10T12:40:30.177535Z",
     "iopub.status.busy": "2024-05-10T12:40:30.177137Z",
     "iopub.status.idle": "2024-05-10T12:40:30.194800Z",
     "shell.execute_reply": "2024-05-10T12:40:30.193922Z"
    },
    "papermill": {
     "duration": 0.032424,
     "end_time": "2024-05-10T12:40:30.197337",
     "exception": false,
     "start_time": "2024-05-10T12:40:30.164913",
     "status": "completed"
    },
    "tags": []
   },
   "outputs": [
    {
     "data": {
      "text/html": [
       "<div>\n",
       "<style scoped>\n",
       "    .dataframe tbody tr th:only-of-type {\n",
       "        vertical-align: middle;\n",
       "    }\n",
       "\n",
       "    .dataframe tbody tr th {\n",
       "        vertical-align: top;\n",
       "    }\n",
       "\n",
       "    .dataframe thead th {\n",
       "        text-align: right;\n",
       "    }\n",
       "</style>\n",
       "<table border=\"1\" class=\"dataframe\">\n",
       "  <thead>\n",
       "    <tr style=\"text-align: right;\">\n",
       "      <th></th>\n",
       "      <th>CreditScore</th>\n",
       "      <th>Age</th>\n",
       "      <th>Tenure</th>\n",
       "      <th>Balance</th>\n",
       "      <th>NumOfProducts</th>\n",
       "      <th>HasCrCard</th>\n",
       "      <th>IsActiveMember</th>\n",
       "      <th>EstimatedSalary</th>\n",
       "      <th>Geography_Germany</th>\n",
       "      <th>Geography_Spain</th>\n",
       "      <th>Gender_Male</th>\n",
       "    </tr>\n",
       "  </thead>\n",
       "  <tbody>\n",
       "    <tr>\n",
       "      <th>0</th>\n",
       "      <td>619</td>\n",
       "      <td>42</td>\n",
       "      <td>2</td>\n",
       "      <td>0.00</td>\n",
       "      <td>1</td>\n",
       "      <td>1</td>\n",
       "      <td>1</td>\n",
       "      <td>101348.88</td>\n",
       "      <td>False</td>\n",
       "      <td>False</td>\n",
       "      <td>False</td>\n",
       "    </tr>\n",
       "    <tr>\n",
       "      <th>1</th>\n",
       "      <td>608</td>\n",
       "      <td>41</td>\n",
       "      <td>1</td>\n",
       "      <td>83807.86</td>\n",
       "      <td>1</td>\n",
       "      <td>0</td>\n",
       "      <td>1</td>\n",
       "      <td>112542.58</td>\n",
       "      <td>False</td>\n",
       "      <td>True</td>\n",
       "      <td>False</td>\n",
       "    </tr>\n",
       "    <tr>\n",
       "      <th>2</th>\n",
       "      <td>502</td>\n",
       "      <td>42</td>\n",
       "      <td>8</td>\n",
       "      <td>159660.80</td>\n",
       "      <td>3</td>\n",
       "      <td>1</td>\n",
       "      <td>0</td>\n",
       "      <td>113931.57</td>\n",
       "      <td>False</td>\n",
       "      <td>False</td>\n",
       "      <td>False</td>\n",
       "    </tr>\n",
       "    <tr>\n",
       "      <th>3</th>\n",
       "      <td>699</td>\n",
       "      <td>39</td>\n",
       "      <td>1</td>\n",
       "      <td>0.00</td>\n",
       "      <td>2</td>\n",
       "      <td>0</td>\n",
       "      <td>0</td>\n",
       "      <td>93826.63</td>\n",
       "      <td>False</td>\n",
       "      <td>False</td>\n",
       "      <td>False</td>\n",
       "    </tr>\n",
       "    <tr>\n",
       "      <th>4</th>\n",
       "      <td>850</td>\n",
       "      <td>43</td>\n",
       "      <td>2</td>\n",
       "      <td>125510.82</td>\n",
       "      <td>1</td>\n",
       "      <td>1</td>\n",
       "      <td>1</td>\n",
       "      <td>79084.10</td>\n",
       "      <td>False</td>\n",
       "      <td>True</td>\n",
       "      <td>False</td>\n",
       "    </tr>\n",
       "    <tr>\n",
       "      <th>...</th>\n",
       "      <td>...</td>\n",
       "      <td>...</td>\n",
       "      <td>...</td>\n",
       "      <td>...</td>\n",
       "      <td>...</td>\n",
       "      <td>...</td>\n",
       "      <td>...</td>\n",
       "      <td>...</td>\n",
       "      <td>...</td>\n",
       "      <td>...</td>\n",
       "      <td>...</td>\n",
       "    </tr>\n",
       "    <tr>\n",
       "      <th>9995</th>\n",
       "      <td>771</td>\n",
       "      <td>39</td>\n",
       "      <td>5</td>\n",
       "      <td>0.00</td>\n",
       "      <td>2</td>\n",
       "      <td>1</td>\n",
       "      <td>0</td>\n",
       "      <td>96270.64</td>\n",
       "      <td>False</td>\n",
       "      <td>False</td>\n",
       "      <td>True</td>\n",
       "    </tr>\n",
       "    <tr>\n",
       "      <th>9996</th>\n",
       "      <td>516</td>\n",
       "      <td>35</td>\n",
       "      <td>10</td>\n",
       "      <td>57369.61</td>\n",
       "      <td>1</td>\n",
       "      <td>1</td>\n",
       "      <td>1</td>\n",
       "      <td>101699.77</td>\n",
       "      <td>False</td>\n",
       "      <td>False</td>\n",
       "      <td>True</td>\n",
       "    </tr>\n",
       "    <tr>\n",
       "      <th>9997</th>\n",
       "      <td>709</td>\n",
       "      <td>36</td>\n",
       "      <td>7</td>\n",
       "      <td>0.00</td>\n",
       "      <td>1</td>\n",
       "      <td>0</td>\n",
       "      <td>1</td>\n",
       "      <td>42085.58</td>\n",
       "      <td>False</td>\n",
       "      <td>False</td>\n",
       "      <td>False</td>\n",
       "    </tr>\n",
       "    <tr>\n",
       "      <th>9998</th>\n",
       "      <td>772</td>\n",
       "      <td>42</td>\n",
       "      <td>3</td>\n",
       "      <td>75075.31</td>\n",
       "      <td>2</td>\n",
       "      <td>1</td>\n",
       "      <td>0</td>\n",
       "      <td>92888.52</td>\n",
       "      <td>True</td>\n",
       "      <td>False</td>\n",
       "      <td>True</td>\n",
       "    </tr>\n",
       "    <tr>\n",
       "      <th>9999</th>\n",
       "      <td>792</td>\n",
       "      <td>28</td>\n",
       "      <td>4</td>\n",
       "      <td>130142.79</td>\n",
       "      <td>1</td>\n",
       "      <td>1</td>\n",
       "      <td>0</td>\n",
       "      <td>38190.78</td>\n",
       "      <td>False</td>\n",
       "      <td>False</td>\n",
       "      <td>False</td>\n",
       "    </tr>\n",
       "  </tbody>\n",
       "</table>\n",
       "<p>10000 rows × 11 columns</p>\n",
       "</div>"
      ],
      "text/plain": [
       "      CreditScore  Age  Tenure    Balance  NumOfProducts  HasCrCard  \\\n",
       "0             619   42       2       0.00              1          1   \n",
       "1             608   41       1   83807.86              1          0   \n",
       "2             502   42       8  159660.80              3          1   \n",
       "3             699   39       1       0.00              2          0   \n",
       "4             850   43       2  125510.82              1          1   \n",
       "...           ...  ...     ...        ...            ...        ...   \n",
       "9995          771   39       5       0.00              2          1   \n",
       "9996          516   35      10   57369.61              1          1   \n",
       "9997          709   36       7       0.00              1          0   \n",
       "9998          772   42       3   75075.31              2          1   \n",
       "9999          792   28       4  130142.79              1          1   \n",
       "\n",
       "      IsActiveMember  EstimatedSalary  Geography_Germany  Geography_Spain  \\\n",
       "0                  1        101348.88              False            False   \n",
       "1                  1        112542.58              False             True   \n",
       "2                  0        113931.57              False            False   \n",
       "3                  0         93826.63              False            False   \n",
       "4                  1         79084.10              False             True   \n",
       "...              ...              ...                ...              ...   \n",
       "9995               0         96270.64              False            False   \n",
       "9996               1        101699.77              False            False   \n",
       "9997               1         42085.58              False            False   \n",
       "9998               0         92888.52               True            False   \n",
       "9999               0         38190.78              False            False   \n",
       "\n",
       "      Gender_Male  \n",
       "0           False  \n",
       "1           False  \n",
       "2           False  \n",
       "3           False  \n",
       "4           False  \n",
       "...           ...  \n",
       "9995         True  \n",
       "9996         True  \n",
       "9997        False  \n",
       "9998         True  \n",
       "9999        False  \n",
       "\n",
       "[10000 rows x 11 columns]"
      ]
     },
     "execution_count": 12,
     "metadata": {},
     "output_type": "execute_result"
    }
   ],
   "source": [
    "X"
   ]
  },
  {
   "cell_type": "code",
   "execution_count": 13,
   "id": "477b0899",
   "metadata": {
    "execution": {
     "iopub.execute_input": "2024-05-10T12:40:30.222198Z",
     "iopub.status.busy": "2024-05-10T12:40:30.221779Z",
     "iopub.status.idle": "2024-05-10T12:40:30.230529Z",
     "shell.execute_reply": "2024-05-10T12:40:30.229448Z"
    },
    "papermill": {
     "duration": 0.024617,
     "end_time": "2024-05-10T12:40:30.233020",
     "exception": false,
     "start_time": "2024-05-10T12:40:30.208403",
     "status": "completed"
    },
    "tags": []
   },
   "outputs": [
    {
     "data": {
      "text/plain": [
       "0       1\n",
       "1       0\n",
       "2       1\n",
       "3       0\n",
       "4       0\n",
       "       ..\n",
       "9995    0\n",
       "9996    0\n",
       "9997    1\n",
       "9998    1\n",
       "9999    0\n",
       "Name: Exited, Length: 10000, dtype: int64"
      ]
     },
     "execution_count": 13,
     "metadata": {},
     "output_type": "execute_result"
    }
   ],
   "source": [
    "y"
   ]
  },
  {
   "cell_type": "markdown",
   "id": "674050b7",
   "metadata": {
    "papermill": {
     "duration": 0.011459,
     "end_time": "2024-05-10T12:40:30.256969",
     "exception": false,
     "start_time": "2024-05-10T12:40:30.245510",
     "status": "completed"
    },
    "tags": []
   },
   "source": [
    "### Scaling dataset"
   ]
  },
  {
   "cell_type": "code",
   "execution_count": 14,
   "id": "eecfa004",
   "metadata": {
    "execution": {
     "iopub.execute_input": "2024-05-10T12:40:30.343698Z",
     "iopub.status.busy": "2024-05-10T12:40:30.342730Z",
     "iopub.status.idle": "2024-05-10T12:40:30.364924Z",
     "shell.execute_reply": "2024-05-10T12:40:30.363893Z"
    },
    "papermill": {
     "duration": 0.098665,
     "end_time": "2024-05-10T12:40:30.367456",
     "exception": false,
     "start_time": "2024-05-10T12:40:30.268791",
     "status": "completed"
    },
    "tags": []
   },
   "outputs": [],
   "source": [
    "from sklearn.preprocessing import StandardScaler\n",
    "scaler = StandardScaler()\n",
    "\n",
    "X_train_scaled = scaler.fit_transform(X_train)\n",
    "X_test_scaled = scaler.fit_transform(X_test)"
   ]
  },
  {
   "cell_type": "code",
   "execution_count": 15,
   "id": "da05a5b0",
   "metadata": {
    "execution": {
     "iopub.execute_input": "2024-05-10T12:40:30.392239Z",
     "iopub.status.busy": "2024-05-10T12:40:30.391877Z",
     "iopub.status.idle": "2024-05-10T12:40:30.398977Z",
     "shell.execute_reply": "2024-05-10T12:40:30.397848Z"
    },
    "papermill": {
     "duration": 0.022973,
     "end_time": "2024-05-10T12:40:30.401759",
     "exception": false,
     "start_time": "2024-05-10T12:40:30.378786",
     "status": "completed"
    },
    "tags": []
   },
   "outputs": [
    {
     "data": {
      "text/plain": [
       "array([[-0.23082038, -0.94449979, -0.70174202, ...,  1.71490137,\n",
       "        -0.57273139,  0.91509065],\n",
       "       [-0.25150912, -0.94449979, -0.35520275, ..., -0.58312392,\n",
       "        -0.57273139, -1.09278791],\n",
       "       [-0.3963303 ,  0.77498705,  0.33787579, ...,  1.71490137,\n",
       "        -0.57273139, -1.09278791],\n",
       "       ...,\n",
       "       [ 0.22433188,  0.58393295,  1.3774936 , ..., -0.58312392,\n",
       "        -0.57273139, -1.09278791],\n",
       "       [ 0.13123255,  0.01077067,  1.03095433, ..., -0.58312392,\n",
       "        -0.57273139, -1.09278791],\n",
       "       [ 1.1656695 ,  0.29735181,  0.33787579, ...,  1.71490137,\n",
       "        -0.57273139,  0.91509065]])"
      ]
     },
     "execution_count": 15,
     "metadata": {},
     "output_type": "execute_result"
    }
   ],
   "source": [
    "X_train_scaled"
   ]
  },
  {
   "cell_type": "markdown",
   "id": "c892c2f1",
   "metadata": {
    "papermill": {
     "duration": 0.01114,
     "end_time": "2024-05-10T12:40:30.424290",
     "exception": false,
     "start_time": "2024-05-10T12:40:30.413150",
     "status": "completed"
    },
    "tags": []
   },
   "source": [
    "### Importing Tensorflow and keras"
   ]
  },
  {
   "cell_type": "code",
   "execution_count": 16,
   "id": "3bead209",
   "metadata": {
    "execution": {
     "iopub.execute_input": "2024-05-10T12:40:30.448925Z",
     "iopub.status.busy": "2024-05-10T12:40:30.448531Z",
     "iopub.status.idle": "2024-05-10T12:40:44.056532Z",
     "shell.execute_reply": "2024-05-10T12:40:44.054671Z"
    },
    "papermill": {
     "duration": 13.623494,
     "end_time": "2024-05-10T12:40:44.059255",
     "exception": false,
     "start_time": "2024-05-10T12:40:30.435761",
     "status": "completed"
    },
    "tags": []
   },
   "outputs": [
    {
     "name": "stderr",
     "output_type": "stream",
     "text": [
      "2024-05-10 12:40:32.657738: E external/local_xla/xla/stream_executor/cuda/cuda_dnn.cc:9261] Unable to register cuDNN factory: Attempting to register factory for plugin cuDNN when one has already been registered\n",
      "2024-05-10 12:40:32.657929: E external/local_xla/xla/stream_executor/cuda/cuda_fft.cc:607] Unable to register cuFFT factory: Attempting to register factory for plugin cuFFT when one has already been registered\n",
      "2024-05-10 12:40:32.818978: E external/local_xla/xla/stream_executor/cuda/cuda_blas.cc:1515] Unable to register cuBLAS factory: Attempting to register factory for plugin cuBLAS when one has already been registered\n"
     ]
    }
   ],
   "source": [
    "import tensorflow\n",
    "from tensorflow import keras\n",
    "from tensorflow.keras import Sequential\n",
    "from tensorflow.keras.layers import Dense"
   ]
  },
  {
   "cell_type": "markdown",
   "id": "d2d3dbc3",
   "metadata": {
    "papermill": {
     "duration": 0.011945,
     "end_time": "2024-05-10T12:40:44.086776",
     "exception": false,
     "start_time": "2024-05-10T12:40:44.074831",
     "status": "completed"
    },
    "tags": []
   },
   "source": [
    "### Creating model"
   ]
  },
  {
   "cell_type": "code",
   "execution_count": 17,
   "id": "10bb08f2",
   "metadata": {
    "execution": {
     "iopub.execute_input": "2024-05-10T12:40:44.120231Z",
     "iopub.status.busy": "2024-05-10T12:40:44.119046Z",
     "iopub.status.idle": "2024-05-10T12:40:44.217869Z",
     "shell.execute_reply": "2024-05-10T12:40:44.216594Z"
    },
    "papermill": {
     "duration": 0.116991,
     "end_time": "2024-05-10T12:40:44.220467",
     "exception": false,
     "start_time": "2024-05-10T12:40:44.103476",
     "status": "completed"
    },
    "tags": []
   },
   "outputs": [
    {
     "name": "stderr",
     "output_type": "stream",
     "text": [
      "/opt/conda/lib/python3.10/site-packages/keras/src/layers/core/dense.py:86: UserWarning: Do not pass an `input_shape`/`input_dim` argument to a layer. When using Sequential models, prefer using an `Input(shape)` object as the first layer in the model instead.\n",
      "  super().__init__(activity_regularizer=activity_regularizer, **kwargs)\n"
     ]
    }
   ],
   "source": [
    "model = Sequential()\n",
    "model.add(Dense(11, activation='relu', input_dim=11))\n",
    "model.add(Dense(11, activation='relu'))\n",
    "model.add(Dense(1, activation='sigmoid'))"
   ]
  },
  {
   "cell_type": "code",
   "execution_count": 18,
   "id": "483947de",
   "metadata": {
    "execution": {
     "iopub.execute_input": "2024-05-10T12:40:44.245362Z",
     "iopub.status.busy": "2024-05-10T12:40:44.244986Z",
     "iopub.status.idle": "2024-05-10T12:40:44.267014Z",
     "shell.execute_reply": "2024-05-10T12:40:44.265396Z"
    },
    "papermill": {
     "duration": 0.037045,
     "end_time": "2024-05-10T12:40:44.269209",
     "exception": false,
     "start_time": "2024-05-10T12:40:44.232164",
     "status": "completed"
    },
    "tags": []
   },
   "outputs": [
    {
     "data": {
      "text/html": [
       "<pre style=\"white-space:pre;overflow-x:auto;line-height:normal;font-family:Menlo,'DejaVu Sans Mono',consolas,'Courier New',monospace\"><span style=\"font-weight: bold\">Model: \"sequential\"</span>\n",
       "</pre>\n"
      ],
      "text/plain": [
       "\u001b[1mModel: \"sequential\"\u001b[0m\n"
      ]
     },
     "metadata": {},
     "output_type": "display_data"
    },
    {
     "data": {
      "text/html": [
       "<pre style=\"white-space:pre;overflow-x:auto;line-height:normal;font-family:Menlo,'DejaVu Sans Mono',consolas,'Courier New',monospace\">┏━━━━━━━━━━━━━━━━━━━━━━━━━━━━━━━━━┳━━━━━━━━━━━━━━━━━━━━━━━━┳━━━━━━━━━━━━━━━┓\n",
       "┃<span style=\"font-weight: bold\"> Layer (type)                    </span>┃<span style=\"font-weight: bold\"> Output Shape           </span>┃<span style=\"font-weight: bold\">       Param # </span>┃\n",
       "┡━━━━━━━━━━━━━━━━━━━━━━━━━━━━━━━━━╇━━━━━━━━━━━━━━━━━━━━━━━━╇━━━━━━━━━━━━━━━┩\n",
       "│ dense (<span style=\"color: #0087ff; text-decoration-color: #0087ff\">Dense</span>)                   │ (<span style=\"color: #00d7ff; text-decoration-color: #00d7ff\">None</span>, <span style=\"color: #00af00; text-decoration-color: #00af00\">11</span>)             │           <span style=\"color: #00af00; text-decoration-color: #00af00\">132</span> │\n",
       "├─────────────────────────────────┼────────────────────────┼───────────────┤\n",
       "│ dense_1 (<span style=\"color: #0087ff; text-decoration-color: #0087ff\">Dense</span>)                 │ (<span style=\"color: #00d7ff; text-decoration-color: #00d7ff\">None</span>, <span style=\"color: #00af00; text-decoration-color: #00af00\">11</span>)             │           <span style=\"color: #00af00; text-decoration-color: #00af00\">132</span> │\n",
       "├─────────────────────────────────┼────────────────────────┼───────────────┤\n",
       "│ dense_2 (<span style=\"color: #0087ff; text-decoration-color: #0087ff\">Dense</span>)                 │ (<span style=\"color: #00d7ff; text-decoration-color: #00d7ff\">None</span>, <span style=\"color: #00af00; text-decoration-color: #00af00\">1</span>)              │            <span style=\"color: #00af00; text-decoration-color: #00af00\">12</span> │\n",
       "└─────────────────────────────────┴────────────────────────┴───────────────┘\n",
       "</pre>\n"
      ],
      "text/plain": [
       "┏━━━━━━━━━━━━━━━━━━━━━━━━━━━━━━━━━┳━━━━━━━━━━━━━━━━━━━━━━━━┳━━━━━━━━━━━━━━━┓\n",
       "┃\u001b[1m \u001b[0m\u001b[1mLayer (type)                   \u001b[0m\u001b[1m \u001b[0m┃\u001b[1m \u001b[0m\u001b[1mOutput Shape          \u001b[0m\u001b[1m \u001b[0m┃\u001b[1m \u001b[0m\u001b[1m      Param #\u001b[0m\u001b[1m \u001b[0m┃\n",
       "┡━━━━━━━━━━━━━━━━━━━━━━━━━━━━━━━━━╇━━━━━━━━━━━━━━━━━━━━━━━━╇━━━━━━━━━━━━━━━┩\n",
       "│ dense (\u001b[38;5;33mDense\u001b[0m)                   │ (\u001b[38;5;45mNone\u001b[0m, \u001b[38;5;34m11\u001b[0m)             │           \u001b[38;5;34m132\u001b[0m │\n",
       "├─────────────────────────────────┼────────────────────────┼───────────────┤\n",
       "│ dense_1 (\u001b[38;5;33mDense\u001b[0m)                 │ (\u001b[38;5;45mNone\u001b[0m, \u001b[38;5;34m11\u001b[0m)             │           \u001b[38;5;34m132\u001b[0m │\n",
       "├─────────────────────────────────┼────────────────────────┼───────────────┤\n",
       "│ dense_2 (\u001b[38;5;33mDense\u001b[0m)                 │ (\u001b[38;5;45mNone\u001b[0m, \u001b[38;5;34m1\u001b[0m)              │            \u001b[38;5;34m12\u001b[0m │\n",
       "└─────────────────────────────────┴────────────────────────┴───────────────┘\n"
      ]
     },
     "metadata": {},
     "output_type": "display_data"
    },
    {
     "data": {
      "text/html": [
       "<pre style=\"white-space:pre;overflow-x:auto;line-height:normal;font-family:Menlo,'DejaVu Sans Mono',consolas,'Courier New',monospace\"><span style=\"font-weight: bold\"> Total params: </span><span style=\"color: #00af00; text-decoration-color: #00af00\">276</span> (1.08 KB)\n",
       "</pre>\n"
      ],
      "text/plain": [
       "\u001b[1m Total params: \u001b[0m\u001b[38;5;34m276\u001b[0m (1.08 KB)\n"
      ]
     },
     "metadata": {},
     "output_type": "display_data"
    },
    {
     "data": {
      "text/html": [
       "<pre style=\"white-space:pre;overflow-x:auto;line-height:normal;font-family:Menlo,'DejaVu Sans Mono',consolas,'Courier New',monospace\"><span style=\"font-weight: bold\"> Trainable params: </span><span style=\"color: #00af00; text-decoration-color: #00af00\">276</span> (1.08 KB)\n",
       "</pre>\n"
      ],
      "text/plain": [
       "\u001b[1m Trainable params: \u001b[0m\u001b[38;5;34m276\u001b[0m (1.08 KB)\n"
      ]
     },
     "metadata": {},
     "output_type": "display_data"
    },
    {
     "data": {
      "text/html": [
       "<pre style=\"white-space:pre;overflow-x:auto;line-height:normal;font-family:Menlo,'DejaVu Sans Mono',consolas,'Courier New',monospace\"><span style=\"font-weight: bold\"> Non-trainable params: </span><span style=\"color: #00af00; text-decoration-color: #00af00\">0</span> (0.00 B)\n",
       "</pre>\n"
      ],
      "text/plain": [
       "\u001b[1m Non-trainable params: \u001b[0m\u001b[38;5;34m0\u001b[0m (0.00 B)\n"
      ]
     },
     "metadata": {},
     "output_type": "display_data"
    }
   ],
   "source": [
    "model.summary()"
   ]
  },
  {
   "cell_type": "code",
   "execution_count": 19,
   "id": "5be08f0f",
   "metadata": {
    "execution": {
     "iopub.execute_input": "2024-05-10T12:40:44.296804Z",
     "iopub.status.busy": "2024-05-10T12:40:44.296099Z",
     "iopub.status.idle": "2024-05-10T12:40:44.311457Z",
     "shell.execute_reply": "2024-05-10T12:40:44.310642Z"
    },
    "papermill": {
     "duration": 0.031778,
     "end_time": "2024-05-10T12:40:44.313736",
     "exception": false,
     "start_time": "2024-05-10T12:40:44.281958",
     "status": "completed"
    },
    "tags": []
   },
   "outputs": [],
   "source": [
    "model.compile(loss='binary_crossentropy', optimizer='Adam', metrics=['accuracy'])"
   ]
  },
  {
   "cell_type": "markdown",
   "id": "bd322d36",
   "metadata": {
    "papermill": {
     "duration": 0.012122,
     "end_time": "2024-05-10T12:40:44.338136",
     "exception": false,
     "start_time": "2024-05-10T12:40:44.326014",
     "status": "completed"
    },
    "tags": []
   },
   "source": [
    "### Training model and restoring result into history variable"
   ]
  },
  {
   "cell_type": "code",
   "execution_count": 20,
   "id": "e25c550d",
   "metadata": {
    "execution": {
     "iopub.execute_input": "2024-05-10T12:40:44.364778Z",
     "iopub.status.busy": "2024-05-10T12:40:44.364193Z",
     "iopub.status.idle": "2024-05-10T12:41:41.057702Z",
     "shell.execute_reply": "2024-05-10T12:41:41.056544Z"
    },
    "papermill": {
     "duration": 56.709822,
     "end_time": "2024-05-10T12:41:41.060318",
     "exception": false,
     "start_time": "2024-05-10T12:40:44.350496",
     "status": "completed"
    },
    "tags": []
   },
   "outputs": [
    {
     "name": "stdout",
     "output_type": "stream",
     "text": [
      "Epoch 1/100\n",
      "\u001b[1m200/200\u001b[0m \u001b[32m━━━━━━━━━━━━━━━━━━━━\u001b[0m\u001b[37m\u001b[0m \u001b[1m2s\u001b[0m 3ms/step - accuracy: 0.7303 - loss: 0.5607 - val_accuracy: 0.8012 - val_loss: 0.4604\n",
      "Epoch 2/100\n",
      "\u001b[1m200/200\u001b[0m \u001b[32m━━━━━━━━━━━━━━━━━━━━\u001b[0m\u001b[37m\u001b[0m \u001b[1m0s\u001b[0m 2ms/step - accuracy: 0.7921 - loss: 0.4613 - val_accuracy: 0.8081 - val_loss: 0.4389\n",
      "Epoch 3/100\n",
      "\u001b[1m200/200\u001b[0m \u001b[32m━━━━━━━━━━━━━━━━━━━━\u001b[0m\u001b[37m\u001b[0m \u001b[1m1s\u001b[0m 2ms/step - accuracy: 0.8076 - loss: 0.4359 - val_accuracy: 0.8081 - val_loss: 0.4321\n",
      "Epoch 4/100\n",
      "\u001b[1m200/200\u001b[0m \u001b[32m━━━━━━━━━━━━━━━━━━━━\u001b[0m\u001b[37m\u001b[0m \u001b[1m1s\u001b[0m 2ms/step - accuracy: 0.8111 - loss: 0.4292 - val_accuracy: 0.8056 - val_loss: 0.4285\n",
      "Epoch 5/100\n",
      "\u001b[1m200/200\u001b[0m \u001b[32m━━━━━━━━━━━━━━━━━━━━\u001b[0m\u001b[37m\u001b[0m \u001b[1m1s\u001b[0m 2ms/step - accuracy: 0.8141 - loss: 0.4284 - val_accuracy: 0.8081 - val_loss: 0.4258\n",
      "Epoch 6/100\n",
      "\u001b[1m200/200\u001b[0m \u001b[32m━━━━━━━━━━━━━━━━━━━━\u001b[0m\u001b[37m\u001b[0m \u001b[1m1s\u001b[0m 2ms/step - accuracy: 0.8099 - loss: 0.4293 - val_accuracy: 0.8125 - val_loss: 0.4233\n",
      "Epoch 7/100\n",
      "\u001b[1m200/200\u001b[0m \u001b[32m━━━━━━━━━━━━━━━━━━━━\u001b[0m\u001b[37m\u001b[0m \u001b[1m0s\u001b[0m 2ms/step - accuracy: 0.8192 - loss: 0.4138 - val_accuracy: 0.8175 - val_loss: 0.4188\n",
      "Epoch 8/100\n",
      "\u001b[1m200/200\u001b[0m \u001b[32m━━━━━━━━━━━━━━━━━━━━\u001b[0m\u001b[37m\u001b[0m \u001b[1m1s\u001b[0m 2ms/step - accuracy: 0.8266 - loss: 0.4144 - val_accuracy: 0.8225 - val_loss: 0.4148\n",
      "Epoch 9/100\n",
      "\u001b[1m200/200\u001b[0m \u001b[32m━━━━━━━━━━━━━━━━━━━━\u001b[0m\u001b[37m\u001b[0m \u001b[1m1s\u001b[0m 2ms/step - accuracy: 0.8299 - loss: 0.4035 - val_accuracy: 0.8231 - val_loss: 0.4102\n",
      "Epoch 10/100\n",
      "\u001b[1m200/200\u001b[0m \u001b[32m━━━━━━━━━━━━━━━━━━━━\u001b[0m\u001b[37m\u001b[0m \u001b[1m0s\u001b[0m 2ms/step - accuracy: 0.8404 - loss: 0.3973 - val_accuracy: 0.8269 - val_loss: 0.4043\n",
      "Epoch 11/100\n",
      "\u001b[1m200/200\u001b[0m \u001b[32m━━━━━━━━━━━━━━━━━━━━\u001b[0m\u001b[37m\u001b[0m \u001b[1m1s\u001b[0m 2ms/step - accuracy: 0.8426 - loss: 0.3883 - val_accuracy: 0.8281 - val_loss: 0.3987\n",
      "Epoch 12/100\n",
      "\u001b[1m200/200\u001b[0m \u001b[32m━━━━━━━━━━━━━━━━━━━━\u001b[0m\u001b[37m\u001b[0m \u001b[1m1s\u001b[0m 2ms/step - accuracy: 0.8464 - loss: 0.3815 - val_accuracy: 0.8331 - val_loss: 0.3923\n",
      "Epoch 13/100\n",
      "\u001b[1m200/200\u001b[0m \u001b[32m━━━━━━━━━━━━━━━━━━━━\u001b[0m\u001b[37m\u001b[0m \u001b[1m0s\u001b[0m 2ms/step - accuracy: 0.8491 - loss: 0.3785 - val_accuracy: 0.8388 - val_loss: 0.3824\n",
      "Epoch 14/100\n",
      "\u001b[1m200/200\u001b[0m \u001b[32m━━━━━━━━━━━━━━━━━━━━\u001b[0m\u001b[37m\u001b[0m \u001b[1m1s\u001b[0m 2ms/step - accuracy: 0.8469 - loss: 0.3740 - val_accuracy: 0.8413 - val_loss: 0.3751\n",
      "Epoch 15/100\n",
      "\u001b[1m200/200\u001b[0m \u001b[32m━━━━━━━━━━━━━━━━━━━━\u001b[0m\u001b[37m\u001b[0m \u001b[1m0s\u001b[0m 2ms/step - accuracy: 0.8550 - loss: 0.3592 - val_accuracy: 0.8456 - val_loss: 0.3667\n",
      "Epoch 16/100\n",
      "\u001b[1m200/200\u001b[0m \u001b[32m━━━━━━━━━━━━━━━━━━━━\u001b[0m\u001b[37m\u001b[0m \u001b[1m1s\u001b[0m 2ms/step - accuracy: 0.8487 - loss: 0.3605 - val_accuracy: 0.8456 - val_loss: 0.3606\n",
      "Epoch 17/100\n",
      "\u001b[1m200/200\u001b[0m \u001b[32m━━━━━━━━━━━━━━━━━━━━\u001b[0m\u001b[37m\u001b[0m \u001b[1m0s\u001b[0m 2ms/step - accuracy: 0.8594 - loss: 0.3524 - val_accuracy: 0.8494 - val_loss: 0.3593\n",
      "Epoch 18/100\n",
      "\u001b[1m200/200\u001b[0m \u001b[32m━━━━━━━━━━━━━━━━━━━━\u001b[0m\u001b[37m\u001b[0m \u001b[1m1s\u001b[0m 2ms/step - accuracy: 0.8523 - loss: 0.3526 - val_accuracy: 0.8512 - val_loss: 0.3541\n",
      "Epoch 19/100\n",
      "\u001b[1m200/200\u001b[0m \u001b[32m━━━━━━━━━━━━━━━━━━━━\u001b[0m\u001b[37m\u001b[0m \u001b[1m1s\u001b[0m 2ms/step - accuracy: 0.8569 - loss: 0.3589 - val_accuracy: 0.8531 - val_loss: 0.3512\n",
      "Epoch 20/100\n",
      "\u001b[1m200/200\u001b[0m \u001b[32m━━━━━━━━━━━━━━━━━━━━\u001b[0m\u001b[37m\u001b[0m \u001b[1m1s\u001b[0m 2ms/step - accuracy: 0.8565 - loss: 0.3478 - val_accuracy: 0.8544 - val_loss: 0.3515\n",
      "Epoch 21/100\n",
      "\u001b[1m200/200\u001b[0m \u001b[32m━━━━━━━━━━━━━━━━━━━━\u001b[0m\u001b[37m\u001b[0m \u001b[1m1s\u001b[0m 2ms/step - accuracy: 0.8709 - loss: 0.3305 - val_accuracy: 0.8562 - val_loss: 0.3484\n",
      "Epoch 22/100\n",
      "\u001b[1m200/200\u001b[0m \u001b[32m━━━━━━━━━━━━━━━━━━━━\u001b[0m\u001b[37m\u001b[0m \u001b[1m1s\u001b[0m 2ms/step - accuracy: 0.8580 - loss: 0.3416 - val_accuracy: 0.8556 - val_loss: 0.3491\n",
      "Epoch 23/100\n",
      "\u001b[1m200/200\u001b[0m \u001b[32m━━━━━━━━━━━━━━━━━━━━\u001b[0m\u001b[37m\u001b[0m \u001b[1m1s\u001b[0m 2ms/step - accuracy: 0.8540 - loss: 0.3482 - val_accuracy: 0.8575 - val_loss: 0.3459\n",
      "Epoch 24/100\n",
      "\u001b[1m200/200\u001b[0m \u001b[32m━━━━━━━━━━━━━━━━━━━━\u001b[0m\u001b[37m\u001b[0m \u001b[1m0s\u001b[0m 2ms/step - accuracy: 0.8573 - loss: 0.3475 - val_accuracy: 0.8587 - val_loss: 0.3455\n",
      "Epoch 25/100\n",
      "\u001b[1m200/200\u001b[0m \u001b[32m━━━━━━━━━━━━━━━━━━━━\u001b[0m\u001b[37m\u001b[0m \u001b[1m1s\u001b[0m 2ms/step - accuracy: 0.8674 - loss: 0.3289 - val_accuracy: 0.8544 - val_loss: 0.3472\n",
      "Epoch 26/100\n",
      "\u001b[1m200/200\u001b[0m \u001b[32m━━━━━━━━━━━━━━━━━━━━\u001b[0m\u001b[37m\u001b[0m \u001b[1m1s\u001b[0m 2ms/step - accuracy: 0.8599 - loss: 0.3451 - val_accuracy: 0.8575 - val_loss: 0.3445\n",
      "Epoch 27/100\n",
      "\u001b[1m200/200\u001b[0m \u001b[32m━━━━━━━━━━━━━━━━━━━━\u001b[0m\u001b[37m\u001b[0m \u001b[1m1s\u001b[0m 2ms/step - accuracy: 0.8687 - loss: 0.3288 - val_accuracy: 0.8562 - val_loss: 0.3451\n",
      "Epoch 28/100\n",
      "\u001b[1m200/200\u001b[0m \u001b[32m━━━━━━━━━━━━━━━━━━━━\u001b[0m\u001b[37m\u001b[0m \u001b[1m1s\u001b[0m 2ms/step - accuracy: 0.8659 - loss: 0.3283 - val_accuracy: 0.8550 - val_loss: 0.3449\n",
      "Epoch 29/100\n",
      "\u001b[1m200/200\u001b[0m \u001b[32m━━━━━━━━━━━━━━━━━━━━\u001b[0m\u001b[37m\u001b[0m \u001b[1m1s\u001b[0m 2ms/step - accuracy: 0.8584 - loss: 0.3342 - val_accuracy: 0.8569 - val_loss: 0.3429\n",
      "Epoch 30/100\n",
      "\u001b[1m200/200\u001b[0m \u001b[32m━━━━━━━━━━━━━━━━━━━━\u001b[0m\u001b[37m\u001b[0m \u001b[1m0s\u001b[0m 2ms/step - accuracy: 0.8547 - loss: 0.3441 - val_accuracy: 0.8562 - val_loss: 0.3438\n",
      "Epoch 31/100\n",
      "\u001b[1m200/200\u001b[0m \u001b[32m━━━━━━━━━━━━━━━━━━━━\u001b[0m\u001b[37m\u001b[0m \u001b[1m1s\u001b[0m 2ms/step - accuracy: 0.8576 - loss: 0.3406 - val_accuracy: 0.8575 - val_loss: 0.3443\n",
      "Epoch 32/100\n",
      "\u001b[1m200/200\u001b[0m \u001b[32m━━━━━━━━━━━━━━━━━━━━\u001b[0m\u001b[37m\u001b[0m \u001b[1m0s\u001b[0m 2ms/step - accuracy: 0.8646 - loss: 0.3291 - val_accuracy: 0.8556 - val_loss: 0.3455\n",
      "Epoch 33/100\n",
      "\u001b[1m200/200\u001b[0m \u001b[32m━━━━━━━━━━━━━━━━━━━━\u001b[0m\u001b[37m\u001b[0m \u001b[1m0s\u001b[0m 2ms/step - accuracy: 0.8661 - loss: 0.3297 - val_accuracy: 0.8556 - val_loss: 0.3437\n",
      "Epoch 34/100\n",
      "\u001b[1m200/200\u001b[0m \u001b[32m━━━━━━━━━━━━━━━━━━━━\u001b[0m\u001b[37m\u001b[0m \u001b[1m1s\u001b[0m 2ms/step - accuracy: 0.8637 - loss: 0.3244 - val_accuracy: 0.8587 - val_loss: 0.3428\n",
      "Epoch 35/100\n",
      "\u001b[1m200/200\u001b[0m \u001b[32m━━━━━━━━━━━━━━━━━━━━\u001b[0m\u001b[37m\u001b[0m \u001b[1m1s\u001b[0m 2ms/step - accuracy: 0.8614 - loss: 0.3328 - val_accuracy: 0.8550 - val_loss: 0.3441\n",
      "Epoch 36/100\n",
      "\u001b[1m200/200\u001b[0m \u001b[32m━━━━━━━━━━━━━━━━━━━━\u001b[0m\u001b[37m\u001b[0m \u001b[1m1s\u001b[0m 2ms/step - accuracy: 0.8741 - loss: 0.3110 - val_accuracy: 0.8544 - val_loss: 0.3438\n",
      "Epoch 37/100\n",
      "\u001b[1m200/200\u001b[0m \u001b[32m━━━━━━━━━━━━━━━━━━━━\u001b[0m\u001b[37m\u001b[0m \u001b[1m0s\u001b[0m 2ms/step - accuracy: 0.8558 - loss: 0.3423 - val_accuracy: 0.8537 - val_loss: 0.3436\n",
      "Epoch 38/100\n",
      "\u001b[1m200/200\u001b[0m \u001b[32m━━━━━━━━━━━━━━━━━━━━\u001b[0m\u001b[37m\u001b[0m \u001b[1m1s\u001b[0m 2ms/step - accuracy: 0.8656 - loss: 0.3296 - val_accuracy: 0.8556 - val_loss: 0.3450\n",
      "Epoch 39/100\n",
      "\u001b[1m200/200\u001b[0m \u001b[32m━━━━━━━━━━━━━━━━━━━━\u001b[0m\u001b[37m\u001b[0m \u001b[1m1s\u001b[0m 2ms/step - accuracy: 0.8630 - loss: 0.3308 - val_accuracy: 0.8525 - val_loss: 0.3444\n",
      "Epoch 40/100\n",
      "\u001b[1m200/200\u001b[0m \u001b[32m━━━━━━━━━━━━━━━━━━━━\u001b[0m\u001b[37m\u001b[0m \u001b[1m1s\u001b[0m 2ms/step - accuracy: 0.8575 - loss: 0.3451 - val_accuracy: 0.8581 - val_loss: 0.3450\n",
      "Epoch 41/100\n",
      "\u001b[1m200/200\u001b[0m \u001b[32m━━━━━━━━━━━━━━━━━━━━\u001b[0m\u001b[37m\u001b[0m \u001b[1m0s\u001b[0m 2ms/step - accuracy: 0.8685 - loss: 0.3227 - val_accuracy: 0.8544 - val_loss: 0.3457\n",
      "Epoch 42/100\n",
      "\u001b[1m200/200\u001b[0m \u001b[32m━━━━━━━━━━━━━━━━━━━━\u001b[0m\u001b[37m\u001b[0m \u001b[1m1s\u001b[0m 2ms/step - accuracy: 0.8554 - loss: 0.3387 - val_accuracy: 0.8569 - val_loss: 0.3430\n",
      "Epoch 43/100\n",
      "\u001b[1m200/200\u001b[0m \u001b[32m━━━━━━━━━━━━━━━━━━━━\u001b[0m\u001b[37m\u001b[0m \u001b[1m0s\u001b[0m 2ms/step - accuracy: 0.8661 - loss: 0.3328 - val_accuracy: 0.8569 - val_loss: 0.3438\n",
      "Epoch 44/100\n",
      "\u001b[1m200/200\u001b[0m \u001b[32m━━━━━━━━━━━━━━━━━━━━\u001b[0m\u001b[37m\u001b[0m \u001b[1m0s\u001b[0m 2ms/step - accuracy: 0.8714 - loss: 0.3188 - val_accuracy: 0.8562 - val_loss: 0.3442\n",
      "Epoch 45/100\n",
      "\u001b[1m200/200\u001b[0m \u001b[32m━━━━━━━━━━━━━━━━━━━━\u001b[0m\u001b[37m\u001b[0m \u001b[1m1s\u001b[0m 2ms/step - accuracy: 0.8691 - loss: 0.3166 - val_accuracy: 0.8575 - val_loss: 0.3428\n",
      "Epoch 46/100\n",
      "\u001b[1m200/200\u001b[0m \u001b[32m━━━━━━━━━━━━━━━━━━━━\u001b[0m\u001b[37m\u001b[0m \u001b[1m0s\u001b[0m 2ms/step - accuracy: 0.8678 - loss: 0.3182 - val_accuracy: 0.8544 - val_loss: 0.3426\n",
      "Epoch 47/100\n",
      "\u001b[1m200/200\u001b[0m \u001b[32m━━━━━━━━━━━━━━━━━━━━\u001b[0m\u001b[37m\u001b[0m \u001b[1m1s\u001b[0m 2ms/step - accuracy: 0.8725 - loss: 0.3168 - val_accuracy: 0.8562 - val_loss: 0.3449\n",
      "Epoch 48/100\n",
      "\u001b[1m200/200\u001b[0m \u001b[32m━━━━━━━━━━━━━━━━━━━━\u001b[0m\u001b[37m\u001b[0m \u001b[1m1s\u001b[0m 2ms/step - accuracy: 0.8574 - loss: 0.3337 - val_accuracy: 0.8575 - val_loss: 0.3436\n",
      "Epoch 49/100\n",
      "\u001b[1m200/200\u001b[0m \u001b[32m━━━━━━━━━━━━━━━━━━━━\u001b[0m\u001b[37m\u001b[0m \u001b[1m0s\u001b[0m 2ms/step - accuracy: 0.8644 - loss: 0.3261 - val_accuracy: 0.8562 - val_loss: 0.3454\n",
      "Epoch 50/100\n",
      "\u001b[1m200/200\u001b[0m \u001b[32m━━━━━━━━━━━━━━━━━━━━\u001b[0m\u001b[37m\u001b[0m \u001b[1m0s\u001b[0m 2ms/step - accuracy: 0.8628 - loss: 0.3228 - val_accuracy: 0.8575 - val_loss: 0.3445\n",
      "Epoch 51/100\n",
      "\u001b[1m200/200\u001b[0m \u001b[32m━━━━━━━━━━━━━━━━━━━━\u001b[0m\u001b[37m\u001b[0m \u001b[1m1s\u001b[0m 2ms/step - accuracy: 0.8556 - loss: 0.3370 - val_accuracy: 0.8619 - val_loss: 0.3445\n",
      "Epoch 52/100\n",
      "\u001b[1m200/200\u001b[0m \u001b[32m━━━━━━━━━━━━━━━━━━━━\u001b[0m\u001b[37m\u001b[0m \u001b[1m1s\u001b[0m 2ms/step - accuracy: 0.8681 - loss: 0.3174 - val_accuracy: 0.8606 - val_loss: 0.3436\n",
      "Epoch 53/100\n",
      "\u001b[1m200/200\u001b[0m \u001b[32m━━━━━━━━━━━━━━━━━━━━\u001b[0m\u001b[37m\u001b[0m \u001b[1m0s\u001b[0m 2ms/step - accuracy: 0.8720 - loss: 0.3155 - val_accuracy: 0.8569 - val_loss: 0.3442\n",
      "Epoch 54/100\n",
      "\u001b[1m200/200\u001b[0m \u001b[32m━━━━━━━━━━━━━━━━━━━━\u001b[0m\u001b[37m\u001b[0m \u001b[1m0s\u001b[0m 2ms/step - accuracy: 0.8609 - loss: 0.3214 - val_accuracy: 0.8556 - val_loss: 0.3460\n",
      "Epoch 55/100\n",
      "\u001b[1m200/200\u001b[0m \u001b[32m━━━━━━━━━━━━━━━━━━━━\u001b[0m\u001b[37m\u001b[0m \u001b[1m1s\u001b[0m 2ms/step - accuracy: 0.8618 - loss: 0.3224 - val_accuracy: 0.8581 - val_loss: 0.3443\n",
      "Epoch 56/100\n",
      "\u001b[1m200/200\u001b[0m \u001b[32m━━━━━━━━━━━━━━━━━━━━\u001b[0m\u001b[37m\u001b[0m \u001b[1m1s\u001b[0m 2ms/step - accuracy: 0.8652 - loss: 0.3276 - val_accuracy: 0.8612 - val_loss: 0.3451\n",
      "Epoch 57/100\n",
      "\u001b[1m200/200\u001b[0m \u001b[32m━━━━━━━━━━━━━━━━━━━━\u001b[0m\u001b[37m\u001b[0m \u001b[1m0s\u001b[0m 2ms/step - accuracy: 0.8675 - loss: 0.3113 - val_accuracy: 0.8600 - val_loss: 0.3454\n",
      "Epoch 58/100\n",
      "\u001b[1m200/200\u001b[0m \u001b[32m━━━━━━━━━━━━━━━━━━━━\u001b[0m\u001b[37m\u001b[0m \u001b[1m0s\u001b[0m 2ms/step - accuracy: 0.8712 - loss: 0.3179 - val_accuracy: 0.8537 - val_loss: 0.3454\n",
      "Epoch 59/100\n",
      "\u001b[1m200/200\u001b[0m \u001b[32m━━━━━━━━━━━━━━━━━━━━\u001b[0m\u001b[37m\u001b[0m \u001b[1m1s\u001b[0m 2ms/step - accuracy: 0.8647 - loss: 0.3235 - val_accuracy: 0.8556 - val_loss: 0.3451\n",
      "Epoch 60/100\n",
      "\u001b[1m200/200\u001b[0m \u001b[32m━━━━━━━━━━━━━━━━━━━━\u001b[0m\u001b[37m\u001b[0m \u001b[1m1s\u001b[0m 2ms/step - accuracy: 0.8664 - loss: 0.3268 - val_accuracy: 0.8600 - val_loss: 0.3445\n",
      "Epoch 61/100\n",
      "\u001b[1m200/200\u001b[0m \u001b[32m━━━━━━━━━━━━━━━━━━━━\u001b[0m\u001b[37m\u001b[0m \u001b[1m1s\u001b[0m 2ms/step - accuracy: 0.8581 - loss: 0.3336 - val_accuracy: 0.8569 - val_loss: 0.3455\n",
      "Epoch 62/100\n",
      "\u001b[1m200/200\u001b[0m \u001b[32m━━━━━━━━━━━━━━━━━━━━\u001b[0m\u001b[37m\u001b[0m \u001b[1m1s\u001b[0m 2ms/step - accuracy: 0.8693 - loss: 0.3117 - val_accuracy: 0.8569 - val_loss: 0.3450\n",
      "Epoch 63/100\n",
      "\u001b[1m200/200\u001b[0m \u001b[32m━━━━━━━━━━━━━━━━━━━━\u001b[0m\u001b[37m\u001b[0m \u001b[1m1s\u001b[0m 2ms/step - accuracy: 0.8542 - loss: 0.3332 - val_accuracy: 0.8550 - val_loss: 0.3466\n",
      "Epoch 64/100\n",
      "\u001b[1m200/200\u001b[0m \u001b[32m━━━━━━━━━━━━━━━━━━━━\u001b[0m\u001b[37m\u001b[0m \u001b[1m1s\u001b[0m 2ms/step - accuracy: 0.8675 - loss: 0.3208 - val_accuracy: 0.8569 - val_loss: 0.3454\n",
      "Epoch 65/100\n",
      "\u001b[1m200/200\u001b[0m \u001b[32m━━━━━━━━━━━━━━━━━━━━\u001b[0m\u001b[37m\u001b[0m \u001b[1m1s\u001b[0m 2ms/step - accuracy: 0.8625 - loss: 0.3198 - val_accuracy: 0.8606 - val_loss: 0.3465\n",
      "Epoch 66/100\n",
      "\u001b[1m200/200\u001b[0m \u001b[32m━━━━━━━━━━━━━━━━━━━━\u001b[0m\u001b[37m\u001b[0m \u001b[1m1s\u001b[0m 2ms/step - accuracy: 0.8597 - loss: 0.3410 - val_accuracy: 0.8594 - val_loss: 0.3478\n",
      "Epoch 67/100\n",
      "\u001b[1m200/200\u001b[0m \u001b[32m━━━━━━━━━━━━━━━━━━━━\u001b[0m\u001b[37m\u001b[0m \u001b[1m1s\u001b[0m 2ms/step - accuracy: 0.8709 - loss: 0.3143 - val_accuracy: 0.8531 - val_loss: 0.3480\n",
      "Epoch 68/100\n",
      "\u001b[1m200/200\u001b[0m \u001b[32m━━━━━━━━━━━━━━━━━━━━\u001b[0m\u001b[37m\u001b[0m \u001b[1m1s\u001b[0m 2ms/step - accuracy: 0.8742 - loss: 0.3105 - val_accuracy: 0.8575 - val_loss: 0.3452\n",
      "Epoch 69/100\n",
      "\u001b[1m200/200\u001b[0m \u001b[32m━━━━━━━━━━━━━━━━━━━━\u001b[0m\u001b[37m\u001b[0m \u001b[1m1s\u001b[0m 2ms/step - accuracy: 0.8694 - loss: 0.3198 - val_accuracy: 0.8519 - val_loss: 0.3499\n",
      "Epoch 70/100\n",
      "\u001b[1m200/200\u001b[0m \u001b[32m━━━━━━━━━━━━━━━━━━━━\u001b[0m\u001b[37m\u001b[0m \u001b[1m0s\u001b[0m 2ms/step - accuracy: 0.8696 - loss: 0.3196 - val_accuracy: 0.8562 - val_loss: 0.3467\n",
      "Epoch 71/100\n",
      "\u001b[1m200/200\u001b[0m \u001b[32m━━━━━━━━━━━━━━━━━━━━\u001b[0m\u001b[37m\u001b[0m \u001b[1m1s\u001b[0m 2ms/step - accuracy: 0.8724 - loss: 0.3083 - val_accuracy: 0.8550 - val_loss: 0.3463\n",
      "Epoch 72/100\n",
      "\u001b[1m200/200\u001b[0m \u001b[32m━━━━━━━━━━━━━━━━━━━━\u001b[0m\u001b[37m\u001b[0m \u001b[1m1s\u001b[0m 2ms/step - accuracy: 0.8730 - loss: 0.3075 - val_accuracy: 0.8569 - val_loss: 0.3458\n",
      "Epoch 73/100\n",
      "\u001b[1m200/200\u001b[0m \u001b[32m━━━━━━━━━━━━━━━━━━━━\u001b[0m\u001b[37m\u001b[0m \u001b[1m0s\u001b[0m 2ms/step - accuracy: 0.8661 - loss: 0.3234 - val_accuracy: 0.8587 - val_loss: 0.3461\n",
      "Epoch 74/100\n",
      "\u001b[1m200/200\u001b[0m \u001b[32m━━━━━━━━━━━━━━━━━━━━\u001b[0m\u001b[37m\u001b[0m \u001b[1m1s\u001b[0m 2ms/step - accuracy: 0.8624 - loss: 0.3241 - val_accuracy: 0.8569 - val_loss: 0.3451\n",
      "Epoch 75/100\n",
      "\u001b[1m200/200\u001b[0m \u001b[32m━━━━━━━━━━━━━━━━━━━━\u001b[0m\u001b[37m\u001b[0m \u001b[1m1s\u001b[0m 2ms/step - accuracy: 0.8631 - loss: 0.3158 - val_accuracy: 0.8587 - val_loss: 0.3463\n",
      "Epoch 76/100\n",
      "\u001b[1m200/200\u001b[0m \u001b[32m━━━━━━━━━━━━━━━━━━━━\u001b[0m\u001b[37m\u001b[0m \u001b[1m0s\u001b[0m 2ms/step - accuracy: 0.8545 - loss: 0.3379 - val_accuracy: 0.8562 - val_loss: 0.3467\n",
      "Epoch 77/100\n",
      "\u001b[1m200/200\u001b[0m \u001b[32m━━━━━━━━━━━━━━━━━━━━\u001b[0m\u001b[37m\u001b[0m \u001b[1m0s\u001b[0m 2ms/step - accuracy: 0.8692 - loss: 0.3213 - val_accuracy: 0.8569 - val_loss: 0.3465\n",
      "Epoch 78/100\n",
      "\u001b[1m200/200\u001b[0m \u001b[32m━━━━━━━━━━━━━━━━━━━━\u001b[0m\u001b[37m\u001b[0m \u001b[1m1s\u001b[0m 2ms/step - accuracy: 0.8751 - loss: 0.3022 - val_accuracy: 0.8562 - val_loss: 0.3471\n",
      "Epoch 79/100\n",
      "\u001b[1m200/200\u001b[0m \u001b[32m━━━━━━━━━━━━━━━━━━━━\u001b[0m\u001b[37m\u001b[0m \u001b[1m1s\u001b[0m 2ms/step - accuracy: 0.8773 - loss: 0.3022 - val_accuracy: 0.8619 - val_loss: 0.3442\n",
      "Epoch 80/100\n",
      "\u001b[1m200/200\u001b[0m \u001b[32m━━━━━━━━━━━━━━━━━━━━\u001b[0m\u001b[37m\u001b[0m \u001b[1m0s\u001b[0m 2ms/step - accuracy: 0.8611 - loss: 0.3219 - val_accuracy: 0.8550 - val_loss: 0.3462\n",
      "Epoch 81/100\n",
      "\u001b[1m200/200\u001b[0m \u001b[32m━━━━━━━━━━━━━━━━━━━━\u001b[0m\u001b[37m\u001b[0m \u001b[1m1s\u001b[0m 2ms/step - accuracy: 0.8705 - loss: 0.3173 - val_accuracy: 0.8544 - val_loss: 0.3471\n",
      "Epoch 82/100\n",
      "\u001b[1m200/200\u001b[0m \u001b[32m━━━━━━━━━━━━━━━━━━━━\u001b[0m\u001b[37m\u001b[0m \u001b[1m1s\u001b[0m 2ms/step - accuracy: 0.8703 - loss: 0.3211 - val_accuracy: 0.8550 - val_loss: 0.3465\n",
      "Epoch 83/100\n",
      "\u001b[1m200/200\u001b[0m \u001b[32m━━━━━━━━━━━━━━━━━━━━\u001b[0m\u001b[37m\u001b[0m \u001b[1m0s\u001b[0m 2ms/step - accuracy: 0.8685 - loss: 0.3202 - val_accuracy: 0.8587 - val_loss: 0.3455\n",
      "Epoch 84/100\n",
      "\u001b[1m200/200\u001b[0m \u001b[32m━━━━━━━━━━━━━━━━━━━━\u001b[0m\u001b[37m\u001b[0m \u001b[1m1s\u001b[0m 2ms/step - accuracy: 0.8633 - loss: 0.3243 - val_accuracy: 0.8556 - val_loss: 0.3482\n",
      "Epoch 85/100\n",
      "\u001b[1m200/200\u001b[0m \u001b[32m━━━━━━━━━━━━━━━━━━━━\u001b[0m\u001b[37m\u001b[0m \u001b[1m0s\u001b[0m 2ms/step - accuracy: 0.8703 - loss: 0.3170 - val_accuracy: 0.8569 - val_loss: 0.3461\n",
      "Epoch 86/100\n",
      "\u001b[1m200/200\u001b[0m \u001b[32m━━━━━━━━━━━━━━━━━━━━\u001b[0m\u001b[37m\u001b[0m \u001b[1m1s\u001b[0m 2ms/step - accuracy: 0.8710 - loss: 0.3121 - val_accuracy: 0.8594 - val_loss: 0.3463\n",
      "Epoch 87/100\n",
      "\u001b[1m200/200\u001b[0m \u001b[32m━━━━━━━━━━━━━━━━━━━━\u001b[0m\u001b[37m\u001b[0m \u001b[1m1s\u001b[0m 2ms/step - accuracy: 0.8622 - loss: 0.3216 - val_accuracy: 0.8606 - val_loss: 0.3461\n",
      "Epoch 88/100\n",
      "\u001b[1m200/200\u001b[0m \u001b[32m━━━━━━━━━━━━━━━━━━━━\u001b[0m\u001b[37m\u001b[0m \u001b[1m1s\u001b[0m 2ms/step - accuracy: 0.8713 - loss: 0.3204 - val_accuracy: 0.8550 - val_loss: 0.3468\n",
      "Epoch 89/100\n",
      "\u001b[1m200/200\u001b[0m \u001b[32m━━━━━━━━━━━━━━━━━━━━\u001b[0m\u001b[37m\u001b[0m \u001b[1m0s\u001b[0m 2ms/step - accuracy: 0.8722 - loss: 0.3143 - val_accuracy: 0.8562 - val_loss: 0.3453\n",
      "Epoch 90/100\n",
      "\u001b[1m200/200\u001b[0m \u001b[32m━━━━━━━━━━━━━━━━━━━━\u001b[0m\u001b[37m\u001b[0m \u001b[1m1s\u001b[0m 2ms/step - accuracy: 0.8769 - loss: 0.3029 - val_accuracy: 0.8562 - val_loss: 0.3460\n",
      "Epoch 91/100\n",
      "\u001b[1m200/200\u001b[0m \u001b[32m━━━━━━━━━━━━━━━━━━━━\u001b[0m\u001b[37m\u001b[0m \u001b[1m1s\u001b[0m 2ms/step - accuracy: 0.8742 - loss: 0.3029 - val_accuracy: 0.8587 - val_loss: 0.3455\n",
      "Epoch 92/100\n",
      "\u001b[1m200/200\u001b[0m \u001b[32m━━━━━━━━━━━━━━━━━━━━\u001b[0m\u001b[37m\u001b[0m \u001b[1m1s\u001b[0m 2ms/step - accuracy: 0.8701 - loss: 0.3138 - val_accuracy: 0.8569 - val_loss: 0.3464\n",
      "Epoch 93/100\n",
      "\u001b[1m200/200\u001b[0m \u001b[32m━━━━━━━━━━━━━━━━━━━━\u001b[0m\u001b[37m\u001b[0m \u001b[1m1s\u001b[0m 2ms/step - accuracy: 0.8708 - loss: 0.3160 - val_accuracy: 0.8587 - val_loss: 0.3455\n",
      "Epoch 94/100\n",
      "\u001b[1m200/200\u001b[0m \u001b[32m━━━━━━━━━━━━━━━━━━━━\u001b[0m\u001b[37m\u001b[0m \u001b[1m1s\u001b[0m 2ms/step - accuracy: 0.8750 - loss: 0.3013 - val_accuracy: 0.8600 - val_loss: 0.3438\n",
      "Epoch 95/100\n",
      "\u001b[1m200/200\u001b[0m \u001b[32m━━━━━━━━━━━━━━━━━━━━\u001b[0m\u001b[37m\u001b[0m \u001b[1m1s\u001b[0m 2ms/step - accuracy: 0.8714 - loss: 0.3159 - val_accuracy: 0.8550 - val_loss: 0.3474\n",
      "Epoch 96/100\n",
      "\u001b[1m200/200\u001b[0m \u001b[32m━━━━━━━━━━━━━━━━━━━━\u001b[0m\u001b[37m\u001b[0m \u001b[1m1s\u001b[0m 2ms/step - accuracy: 0.8630 - loss: 0.3191 - val_accuracy: 0.8569 - val_loss: 0.3456\n",
      "Epoch 97/100\n",
      "\u001b[1m200/200\u001b[0m \u001b[32m━━━━━━━━━━━━━━━━━━━━\u001b[0m\u001b[37m\u001b[0m \u001b[1m1s\u001b[0m 2ms/step - accuracy: 0.8720 - loss: 0.3114 - val_accuracy: 0.8581 - val_loss: 0.3449\n",
      "Epoch 98/100\n",
      "\u001b[1m200/200\u001b[0m \u001b[32m━━━━━━━━━━━━━━━━━━━━\u001b[0m\u001b[37m\u001b[0m \u001b[1m0s\u001b[0m 2ms/step - accuracy: 0.8677 - loss: 0.3146 - val_accuracy: 0.8587 - val_loss: 0.3443\n",
      "Epoch 99/100\n",
      "\u001b[1m200/200\u001b[0m \u001b[32m━━━━━━━━━━━━━━━━━━━━\u001b[0m\u001b[37m\u001b[0m \u001b[1m1s\u001b[0m 2ms/step - accuracy: 0.8678 - loss: 0.3152 - val_accuracy: 0.8594 - val_loss: 0.3447\n",
      "Epoch 100/100\n",
      "\u001b[1m200/200\u001b[0m \u001b[32m━━━━━━━━━━━━━━━━━━━━\u001b[0m\u001b[37m\u001b[0m \u001b[1m1s\u001b[0m 2ms/step - accuracy: 0.8688 - loss: 0.3084 - val_accuracy: 0.8550 - val_loss: 0.3482\n"
     ]
    }
   ],
   "source": [
    "history = model.fit(X_train_scaled, y_train, epochs=100, validation_split=0.2)"
   ]
  },
  {
   "cell_type": "markdown",
   "id": "6fc49d8b",
   "metadata": {
    "papermill": {
     "duration": 0.069397,
     "end_time": "2024-05-10T12:41:41.200619",
     "exception": false,
     "start_time": "2024-05-10T12:41:41.131222",
     "status": "completed"
    },
    "tags": []
   },
   "source": [
    "### Checking for Weights and Biases assigned at layer 1"
   ]
  },
  {
   "cell_type": "code",
   "execution_count": 21,
   "id": "7cb231c7",
   "metadata": {
    "execution": {
     "iopub.execute_input": "2024-05-10T12:41:41.345043Z",
     "iopub.status.busy": "2024-05-10T12:41:41.344478Z",
     "iopub.status.idle": "2024-05-10T12:41:41.359938Z",
     "shell.execute_reply": "2024-05-10T12:41:41.358181Z"
    },
    "papermill": {
     "duration": 0.090992,
     "end_time": "2024-05-10T12:41:41.362481",
     "exception": false,
     "start_time": "2024-05-10T12:41:41.271489",
     "status": "completed"
    },
    "tags": []
   },
   "outputs": [
    {
     "data": {
      "text/plain": [
       "[array([[-0.34969804,  0.20646453, -0.08135079,  0.02062798, -0.05770166,\n",
       "          0.08777735, -0.21089707, -0.13264091,  0.11650534, -0.13015994,\n",
       "          0.08260366],\n",
       "        [-0.9917959 , -0.49150208, -0.30372196, -0.2893374 ,  0.40119556,\n",
       "         -0.956611  ,  0.95682186,  0.01834507, -0.32221264, -0.61484337,\n",
       "         -0.02562264],\n",
       "        [ 0.41847268, -0.11418433,  0.3060331 , -0.02624271, -0.14136763,\n",
       "         -0.12132975,  0.14149278, -0.17652182,  0.15618835, -0.24269716,\n",
       "         -0.13423626],\n",
       "        [-0.27237022,  0.25899485, -0.89136153, -0.03572923,  0.09596421,\n",
       "         -0.16507202, -0.3864401 ,  0.06651926, -0.7014527 ,  0.2602513 ,\n",
       "          1.0155119 ],\n",
       "        [-0.27593514, -0.29493678,  0.8660295 ,  0.07409977,  1.3052727 ,\n",
       "          0.25718918,  0.02398349, -1.0938382 , -0.9390963 ,  0.10169657,\n",
       "          0.8040701 ],\n",
       "        [ 0.3519738 , -0.84534484,  0.2736592 ,  0.99836636, -0.30214742,\n",
       "         -0.01581908, -0.41101208, -0.20468388, -0.18338153, -0.49491397,\n",
       "          0.02930907],\n",
       "        [-0.05386204, -0.06352595, -0.10361137,  0.02668912, -0.3239962 ,\n",
       "         -0.45377994,  0.8896664 , -0.53541255,  0.07237498, -0.66279763,\n",
       "         -0.36793208],\n",
       "        [-0.3578009 , -0.1503757 ,  0.04605158,  0.05390937,  0.08442198,\n",
       "          0.10778294,  0.09405506, -0.0070866 , -0.01609014,  0.02301531,\n",
       "          0.27833694],\n",
       "        [-0.66859657, -0.3273852 ,  1.012023  , -0.03646747,  0.01588419,\n",
       "          0.35064772,  0.09984209, -0.04691736,  0.46052077,  0.15312815,\n",
       "          0.5085425 ],\n",
       "        [ 0.09374721, -0.03552539,  0.5361226 , -0.13917778, -0.00566845,\n",
       "         -0.1470371 , -0.190028  , -0.10968511, -0.01673517, -0.17280765,\n",
       "         -0.03668303],\n",
       "        [-0.36029747,  0.37901554, -0.01331136,  0.36691615, -0.13742627,\n",
       "          0.10393224,  0.21866548, -0.07549307,  0.03360391, -0.41849127,\n",
       "         -0.02902356]], dtype=float32),\n",
       " array([ 0.15921368,  0.12044843,  0.41058522,  0.47495687, -0.47675723,\n",
       "         0.9409631 ,  0.09385291, -0.03908139,  0.10894952,  0.3126682 ,\n",
       "         0.16133423], dtype=float32)]"
      ]
     },
     "execution_count": 21,
     "metadata": {},
     "output_type": "execute_result"
    }
   ],
   "source": [
    "model.layers[0].get_weights()"
   ]
  },
  {
   "cell_type": "markdown",
   "id": "5c7937a4",
   "metadata": {
    "papermill": {
     "duration": 0.072952,
     "end_time": "2024-05-10T12:41:41.503160",
     "exception": false,
     "start_time": "2024-05-10T12:41:41.430208",
     "status": "completed"
    },
    "tags": []
   },
   "source": [
    "### Weights and biases for layer 2"
   ]
  },
  {
   "cell_type": "code",
   "execution_count": 22,
   "id": "3f55b48a",
   "metadata": {
    "execution": {
     "iopub.execute_input": "2024-05-10T12:41:41.647892Z",
     "iopub.status.busy": "2024-05-10T12:41:41.647431Z",
     "iopub.status.idle": "2024-05-10T12:41:41.658072Z",
     "shell.execute_reply": "2024-05-10T12:41:41.657214Z"
    },
    "papermill": {
     "duration": 0.085338,
     "end_time": "2024-05-10T12:41:41.661149",
     "exception": false,
     "start_time": "2024-05-10T12:41:41.575811",
     "status": "completed"
    },
    "tags": []
   },
   "outputs": [
    {
     "data": {
      "text/plain": [
       "[array([[-0.32704318, -1.313949  ,  0.030539  , -0.04708045,  0.21073999,\n",
       "         -0.00644264, -0.07701725, -0.67642224, -0.13780677,  0.5059733 ,\n",
       "         -0.4574884 ],\n",
       "        [-0.23278216, -1.0602885 ,  0.53491014,  0.01355456, -0.18054515,\n",
       "         -0.6341136 ,  0.5575584 , -0.3058537 , -0.2132388 , -0.07565562,\n",
       "         -0.05524548],\n",
       "        [ 0.5373738 , -0.78771853,  0.2786787 , -0.01133926, -1.432031  ,\n",
       "         -0.11176505,  0.930643  , -1.1381495 , -0.12254756,  0.3979555 ,\n",
       "          0.344734  ],\n",
       "        [ 0.54557896, -0.38975808,  0.20714188,  0.0458141 ,  0.8779848 ,\n",
       "          0.38569784, -0.42420685,  0.28793654, -0.38784242, -0.15398942,\n",
       "          0.08821654],\n",
       "        [-0.28939217,  0.05138012, -0.50189424, -0.27313304, -0.17382821,\n",
       "         -0.53954834, -0.0202123 , -0.4673586 , -0.32672977,  0.6726024 ,\n",
       "          0.9689569 ],\n",
       "        [-0.11988662,  0.33709663,  0.36412433,  0.3176129 , -0.4434488 ,\n",
       "          0.5257914 ,  0.1290563 , -0.248111  ,  0.06508806,  0.4251474 ,\n",
       "         -0.99971074],\n",
       "        [-0.44691488,  0.60992783,  0.4966068 ,  0.453208  , -0.4075817 ,\n",
       "          0.3158351 ,  0.42521027,  0.70542026, -0.17714928, -0.3316068 ,\n",
       "          0.02727222],\n",
       "        [ 0.0213619 , -0.20930612, -0.01436642, -0.52935505, -0.0460491 ,\n",
       "         -0.10867749, -0.09674332,  0.43640366, -0.3970157 ,  0.9833393 ,\n",
       "          0.856242  ],\n",
       "        [-0.30178022, -1.072885  , -0.48307815, -0.01135071, -0.01762718,\n",
       "         -0.3382559 ,  0.21952134,  0.29317325,  0.01802099,  0.21042939,\n",
       "          0.60799086],\n",
       "        [-0.45242003, -0.02084659,  0.48962373,  0.23209374,  0.31438062,\n",
       "         -0.14142339, -0.04977237,  0.1018095 ,  0.03330862, -0.28554088,\n",
       "         -0.6237513 ],\n",
       "        [-0.4569865 ,  0.46555454,  0.02867478, -0.17435451, -0.30702618,\n",
       "          0.23839417, -1.1808124 , -0.25892252, -0.28171593,  0.21120562,\n",
       "          0.1620171 ]], dtype=float32),\n",
       " array([ 0.2524867 , -0.03308256,  0.3817037 ,  0.6045164 ,  0.22386058,\n",
       "         0.50295377,  0.37728244,  0.16263744, -0.0241113 , -0.25586498,\n",
       "        -0.0313441 ], dtype=float32)]"
      ]
     },
     "execution_count": 22,
     "metadata": {},
     "output_type": "execute_result"
    }
   ],
   "source": [
    "model.layers[1].get_weights()"
   ]
  },
  {
   "cell_type": "markdown",
   "id": "98c3b99e",
   "metadata": {
    "papermill": {
     "duration": 0.076228,
     "end_time": "2024-05-10T12:41:41.812023",
     "exception": false,
     "start_time": "2024-05-10T12:41:41.735795",
     "status": "completed"
    },
    "tags": []
   },
   "source": [
    "### Predicting on test data"
   ]
  },
  {
   "cell_type": "code",
   "execution_count": 23,
   "id": "5d6736ac",
   "metadata": {
    "execution": {
     "iopub.execute_input": "2024-05-10T12:41:41.965296Z",
     "iopub.status.busy": "2024-05-10T12:41:41.964523Z",
     "iopub.status.idle": "2024-05-10T12:41:42.251235Z",
     "shell.execute_reply": "2024-05-10T12:41:42.249866Z"
    },
    "papermill": {
     "duration": 0.366389,
     "end_time": "2024-05-10T12:41:42.253915",
     "exception": false,
     "start_time": "2024-05-10T12:41:41.887526",
     "status": "completed"
    },
    "tags": []
   },
   "outputs": [
    {
     "name": "stdout",
     "output_type": "stream",
     "text": [
      "\u001b[1m63/63\u001b[0m \u001b[32m━━━━━━━━━━━━━━━━━━━━\u001b[0m\u001b[37m\u001b[0m \u001b[1m0s\u001b[0m 2ms/step\n"
     ]
    },
    {
     "data": {
      "text/plain": [
       "array([[0.04881467],\n",
       "       [0.06670807],\n",
       "       [0.01943201],\n",
       "       ...,\n",
       "       [0.00521587],\n",
       "       [0.06346825],\n",
       "       [0.59654814]], dtype=float32)"
      ]
     },
     "execution_count": 23,
     "metadata": {},
     "output_type": "execute_result"
    }
   ],
   "source": [
    "model.predict(X_test_scaled)"
   ]
  },
  {
   "cell_type": "markdown",
   "id": "0059fe10",
   "metadata": {
    "papermill": {
     "duration": 0.072757,
     "end_time": "2024-05-10T12:41:42.397246",
     "exception": false,
     "start_time": "2024-05-10T12:41:42.324489",
     "status": "completed"
    },
    "tags": []
   },
   "source": [
    "### Predicting result with the help of threshold because sigmoid activation function predicts the probability"
   ]
  },
  {
   "cell_type": "code",
   "execution_count": 24,
   "id": "47977805",
   "metadata": {
    "execution": {
     "iopub.execute_input": "2024-05-10T12:41:42.540580Z",
     "iopub.status.busy": "2024-05-10T12:41:42.540018Z",
     "iopub.status.idle": "2024-05-10T12:41:42.723183Z",
     "shell.execute_reply": "2024-05-10T12:41:42.721349Z"
    },
    "papermill": {
     "duration": 0.257922,
     "end_time": "2024-05-10T12:41:42.725619",
     "exception": false,
     "start_time": "2024-05-10T12:41:42.467697",
     "status": "completed"
    },
    "tags": []
   },
   "outputs": [
    {
     "name": "stdout",
     "output_type": "stream",
     "text": [
      "\u001b[1m63/63\u001b[0m \u001b[32m━━━━━━━━━━━━━━━━━━━━\u001b[0m\u001b[37m\u001b[0m \u001b[1m0s\u001b[0m 1ms/step\n"
     ]
    }
   ],
   "source": [
    "# predict threshold a 0.5\n",
    "y_log = model.predict(X_test_scaled)\n",
    "\n",
    "y_pred = np.where(y_log>0.5, 1, 0)"
   ]
  },
  {
   "cell_type": "markdown",
   "id": "094f4be0",
   "metadata": {
    "papermill": {
     "duration": 0.068515,
     "end_time": "2024-05-10T12:41:42.866511",
     "exception": false,
     "start_time": "2024-05-10T12:41:42.797996",
     "status": "completed"
    },
    "tags": []
   },
   "source": [
    "### Checking for the accuracy"
   ]
  },
  {
   "cell_type": "code",
   "execution_count": 25,
   "id": "3533cdb6",
   "metadata": {
    "execution": {
     "iopub.execute_input": "2024-05-10T12:41:43.008946Z",
     "iopub.status.busy": "2024-05-10T12:41:43.008364Z",
     "iopub.status.idle": "2024-05-10T12:41:43.019737Z",
     "shell.execute_reply": "2024-05-10T12:41:43.017999Z"
    },
    "papermill": {
     "duration": 0.086167,
     "end_time": "2024-05-10T12:41:43.022285",
     "exception": false,
     "start_time": "2024-05-10T12:41:42.936118",
     "status": "completed"
    },
    "tags": []
   },
   "outputs": [
    {
     "data": {
      "text/plain": [
       "0.8615"
      ]
     },
     "execution_count": 25,
     "metadata": {},
     "output_type": "execute_result"
    }
   ],
   "source": [
    "from sklearn.metrics import accuracy_score\n",
    "accuracy_score(y_test, y_pred)"
   ]
  },
  {
   "cell_type": "markdown",
   "id": "908dc246",
   "metadata": {
    "papermill": {
     "duration": 0.072761,
     "end_time": "2024-05-10T12:41:43.167588",
     "exception": false,
     "start_time": "2024-05-10T12:41:43.094827",
     "status": "completed"
    },
    "tags": []
   },
   "source": [
    "### To plot how model behaved in 100 epochs"
   ]
  },
  {
   "cell_type": "code",
   "execution_count": 26,
   "id": "8205568f",
   "metadata": {
    "execution": {
     "iopub.execute_input": "2024-05-10T12:41:43.310057Z",
     "iopub.status.busy": "2024-05-10T12:41:43.309626Z",
     "iopub.status.idle": "2024-05-10T12:41:43.315964Z",
     "shell.execute_reply": "2024-05-10T12:41:43.314080Z"
    },
    "papermill": {
     "duration": 0.081974,
     "end_time": "2024-05-10T12:41:43.318277",
     "exception": false,
     "start_time": "2024-05-10T12:41:43.236303",
     "status": "completed"
    },
    "tags": []
   },
   "outputs": [],
   "source": [
    "import matplotlib.pyplot as plt"
   ]
  },
  {
   "cell_type": "markdown",
   "id": "88f78bcf",
   "metadata": {
    "papermill": {
     "duration": 0.079738,
     "end_time": "2024-05-10T12:41:43.475921",
     "exception": false,
     "start_time": "2024-05-10T12:41:43.396183",
     "status": "completed"
    },
    "tags": []
   },
   "source": [
    "### Checking how history variable stores the value"
   ]
  },
  {
   "cell_type": "code",
   "execution_count": 27,
   "id": "b7493f12",
   "metadata": {
    "execution": {
     "iopub.execute_input": "2024-05-10T12:41:43.632481Z",
     "iopub.status.busy": "2024-05-10T12:41:43.631909Z",
     "iopub.status.idle": "2024-05-10T12:41:43.637303Z",
     "shell.execute_reply": "2024-05-10T12:41:43.636062Z"
    },
    "papermill": {
     "duration": 0.083187,
     "end_time": "2024-05-10T12:41:43.639551",
     "exception": false,
     "start_time": "2024-05-10T12:41:43.556364",
     "status": "completed"
    },
    "tags": []
   },
   "outputs": [],
   "source": [
    "# history.history"
   ]
  },
  {
   "cell_type": "markdown",
   "id": "1c03337c",
   "metadata": {
    "papermill": {
     "duration": 0.073881,
     "end_time": "2024-05-10T12:41:43.790345",
     "exception": false,
     "start_time": "2024-05-10T12:41:43.716464",
     "status": "completed"
    },
    "tags": []
   },
   "source": [
    "### Plotting how model behaves with different number of Epochs"
   ]
  },
  {
   "cell_type": "code",
   "execution_count": 28,
   "id": "c5e089cb",
   "metadata": {
    "execution": {
     "iopub.execute_input": "2024-05-10T12:41:43.941542Z",
     "iopub.status.busy": "2024-05-10T12:41:43.941159Z",
     "iopub.status.idle": "2024-05-10T12:41:44.274535Z",
     "shell.execute_reply": "2024-05-10T12:41:44.272817Z"
    },
    "papermill": {
     "duration": 0.41223,
     "end_time": "2024-05-10T12:41:44.277461",
     "exception": false,
     "start_time": "2024-05-10T12:41:43.865231",
     "status": "completed"
    },
    "tags": []
   },
   "outputs": [
    {
     "data": {
      "image/png": "[encoded data removed]",
      "text/plain": [
       "<Figure size 640x480 with 1 Axes>"
      ]
     },
     "metadata": {},
     "output_type": "display_data"
    }
   ],
   "source": [
    "plt.plot(history.history['loss'], label='loss')\n",
    "plt.plot(history.history['val_loss'], label='val_loss')\n",
    "plt.plot(history.history['accuracy'], label='accuracy')\n",
    "plt.plot(history.history['val_accuracy'], label='val_accuracy')\n",
    "plt.xlabel(\"Epochs\")\n",
    "plt.legend(loc='center right', fontsize='small')\n",
    "plt.show()"
   ]
  },
  {
   "cell_type": "markdown",
   "id": "6c936a54",
   "metadata": {
    "papermill": {
     "duration": 0.067965,
     "end_time": "2024-05-10T12:41:44.413430",
     "exception": false,
     "start_time": "2024-05-10T12:41:44.345465",
     "status": "completed"
    },
    "tags": []
   },
   "source": [
    "### Here We can see that model got overfitted after 15 epochs"
   ]
  },
  {
   "cell_type": "code",
   "execution_count": null,
   "id": "7c9518b3",
   "metadata": {
    "papermill": {
     "duration": 0.070447,
     "end_time": "2024-05-10T12:41:44.556898",
     "exception": false,
     "start_time": "2024-05-10T12:41:44.486451",
     "status": "completed"
    },
    "tags": []
   },
   "outputs": [],
   "source": []
  },
  {
   "cell_type": "code",
   "execution_count": null,
   "id": "e1c961f9",
   "metadata": {
    "papermill": {
     "duration": 0.071878,
     "end_time": "2024-05-10T12:41:44.697725",
     "exception": false,
     "start_time": "2024-05-10T12:41:44.625847",
     "status": "completed"
    },
    "tags": []
   },
   "outputs": [],
   "source": []
  },
  {
   "cell_type": "code",
   "execution_count": null,
   "id": "25b02179",
   "metadata": {
    "papermill": {
     "duration": 0.068356,
     "end_time": "2024-05-10T12:41:44.839724",
     "exception": false,
     "start_time": "2024-05-10T12:41:44.771368",
     "status": "completed"
    },
    "tags": []
   },
   "outputs": [],
   "source": []
  }
 ],
 "metadata": {
  "kaggle": {
   "accelerator": "none",
   "dataSources": [
    {
     "datasetId": 869651,
     "sourceId": 1481789,
     "sourceType": "datasetVersion"
    }
   ],
   "dockerImageVersionId": 30698,
   "isGpuEnabled": false,
   "isInternetEnabled": true,
   "language": "python",
   "sourceType": "notebook"
  },
  "kernelspec": {
   "display_name": "Python 3",
   "language": "python",
   "name": "python3"
  },
  "language_info": {
   "codemirror_mode": {
    "name": "ipython",
    "version": 3
   },
   "file_extension": ".py",
   "mimetype": "text/x-python",
   "name": "python",
   "nbconvert_exporter": "python",
   "pygments_lexer": "ipython3",
   "version": "3.10.13"
  },
  "papermill": {
   "default_parameters": {},
   "duration": 82.055928,
   "end_time": "2024-05-10T12:41:46.636275",
   "environment_variables": {},
   "exception": null,
   "input_path": "__notebook__.ipynb",
   "output_path": "__notebook__.ipynb",
   "parameters": {},
   "start_time": "2024-05-10T12:40:24.580347",
   "version": "2.5.0"
  }
 },
 "nbformat": 4,
 "nbformat_minor": 5
}
